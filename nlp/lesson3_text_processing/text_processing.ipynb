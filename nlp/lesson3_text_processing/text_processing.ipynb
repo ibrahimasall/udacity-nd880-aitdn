{
 "cells": [
  {
   "cell_type": "markdown",
   "metadata": {},
   "source": [
    "# Text Processing\n",
    "\n",
    "## Capturing Text Data\n",
    "\n",
    "### Plain Text"
   ]
  },
  {
   "cell_type": "code",
   "execution_count": 1,
   "metadata": {},
   "outputs": [
    {
     "name": "stdout",
     "output_type": "stream",
     "text": [
      "Hieroglyphic writing dates from c. 3000 BC, and is composed of hundreds of symbols. A hieroglyph can represent a word, a sound, or a silent determinative; and the same symbol can serve different purposes in different contexts. Hieroglyphs were a formal script, used on stone monuments and in tombs, that could be as detailed as individual works of art.\n"
     ]
    }
   ],
   "source": [
    "import os\n",
    "\n",
    "# Read in a plain text file\n",
    "with open(os.path.join(\"data\", \"hieroglyph.txt\"), \"r\") as f:\n",
    "    text = f.read()\n",
    "    print(text)"
   ]
  },
  {
   "cell_type": "markdown",
   "metadata": {},
   "source": [
    "### Tabular Data"
   ]
  },
  {
   "cell_type": "code",
   "execution_count": 2,
   "metadata": {},
   "outputs": [
    {
     "data": {
      "text/html": [
       "<div>\n",
       "<style scoped>\n",
       "    .dataframe tbody tr th:only-of-type {\n",
       "        vertical-align: middle;\n",
       "    }\n",
       "\n",
       "    .dataframe tbody tr th {\n",
       "        vertical-align: top;\n",
       "    }\n",
       "\n",
       "    .dataframe thead th {\n",
       "        text-align: right;\n",
       "    }\n",
       "</style>\n",
       "<table border=\"1\" class=\"dataframe\">\n",
       "  <thead>\n",
       "    <tr style=\"text-align: right;\">\n",
       "      <th></th>\n",
       "      <th>publisher</th>\n",
       "      <th>title</th>\n",
       "    </tr>\n",
       "  </thead>\n",
       "  <tbody>\n",
       "    <tr>\n",
       "      <th>0</th>\n",
       "      <td>Livemint</td>\n",
       "      <td>fed's charles plosser sees high bar for change...</td>\n",
       "    </tr>\n",
       "    <tr>\n",
       "      <th>1</th>\n",
       "      <td>IFA Magazine</td>\n",
       "      <td>us open: stocks fall after fed official hints ...</td>\n",
       "    </tr>\n",
       "    <tr>\n",
       "      <th>2</th>\n",
       "      <td>IFA Magazine</td>\n",
       "      <td>fed risks falling 'behind the curve', charles ...</td>\n",
       "    </tr>\n",
       "    <tr>\n",
       "      <th>3</th>\n",
       "      <td>Moneynews</td>\n",
       "      <td>fed's plosser: nasty weather has curbed job gr...</td>\n",
       "    </tr>\n",
       "    <tr>\n",
       "      <th>4</th>\n",
       "      <td>NASDAQ</td>\n",
       "      <td>plosser: fed may have to accelerate tapering pace</td>\n",
       "    </tr>\n",
       "  </tbody>\n",
       "</table>\n",
       "</div>"
      ],
      "text/plain": [
       "      publisher                                              title\n",
       "0      Livemint  fed's charles plosser sees high bar for change...\n",
       "1  IFA Magazine  us open: stocks fall after fed official hints ...\n",
       "2  IFA Magazine  fed risks falling 'behind the curve', charles ...\n",
       "3     Moneynews  fed's plosser: nasty weather has curbed job gr...\n",
       "4        NASDAQ  plosser: fed may have to accelerate tapering pace"
      ]
     },
     "execution_count": 2,
     "metadata": {},
     "output_type": "execute_result"
    }
   ],
   "source": [
    "import pandas as pd\n",
    "\n",
    "# Extract text column from a dataframe\n",
    "df = pd.read_csv(os.path.join(\"data\", \"news.csv\"))\n",
    "df.head()[['publisher', 'title']]\n",
    "\n",
    "# Convert text column to lowercase\n",
    "df['title'] = df['title'].str.lower()\n",
    "df.head()[['publisher', 'title']]"
   ]
  },
  {
   "cell_type": "markdown",
   "metadata": {},
   "source": [
    "### Online Resource"
   ]
  },
  {
   "cell_type": "code",
   "execution_count": 3,
   "metadata": {},
   "outputs": [
    {
     "name": "stdout",
     "output_type": "stream",
     "text": [
      "{\n",
      "    \"success\": {\n",
      "        \"total\": 1\n",
      "    },\n",
      "    \"contents\": {\n",
      "        \"quotes\": [\n",
      "            {\n",
      "                \"quote\": \"Only a man who knows what it is like to be defeated can reach down to the bottom of his soul and come up with the extra ounce of power it takes to win when the match is even.\",\n",
      "                \"length\": \"174\",\n",
      "                \"author\": \"Mohamad Ali\",\n",
      "                \"tags\": [\n",
      "                    \"failure\",\n",
      "                    \"inspire\",\n",
      "                    \"learning-from-failure\"\n",
      "                ],\n",
      "                \"category\": \"inspire\",\n",
      "                \"language\": \"en\",\n",
      "                \"date\": \"2020-02-22\",\n",
      "                \"permalink\": \"https://theysaidso.com/quote/mohamad-ali-only-a-man-who-knows-what-it-is-like-to-be-defeated-can-reach-down-t\",\n",
      "                \"id\": \"Ry0zJKKjfxjxz__BMB9plgeF\",\n",
      "                \"background\": \"https://theysaidso.com/img/qod/qod-inspire.jpg\",\n",
      "                \"title\": \"Inspiring Quote of the day\"\n",
      "            }\n",
      "        ]\n",
      "    },\n",
      "    \"baseurl\": \"https://theysaidso.com\",\n",
      "    \"copyright\": {\n",
      "        \"year\": 2022,\n",
      "        \"url\": \"https://theysaidso.com\"\n",
      "    }\n",
      "}\n",
      "Only a man who knows what it is like to be defeated can reach down to the bottom of his soul and come up with the extra ounce of power it takes to win when the match is even. \n",
      "-- Mohamad Ali\n"
     ]
    }
   ],
   "source": [
    "import requests\n",
    "import json\n",
    "\n",
    "# Fetch data from a REST API\n",
    "r = requests.get(\"https://quotes.rest/qod.json\")\n",
    "res = r.json()\n",
    "print(json.dumps(res, indent=4))\n",
    "\n",
    "# Extract relevant object and field\n",
    "q = res[\"contents\"][\"quotes\"][0]\n",
    "print(q[\"quote\"], \"\\n--\", q[\"author\"])"
   ]
  },
  {
   "cell_type": "markdown",
   "metadata": {},
   "source": [
    "## Normalization\n",
    "\n",
    "### Case Normalization"
   ]
  },
  {
   "cell_type": "code",
   "execution_count": 4,
   "metadata": {},
   "outputs": [
    {
     "name": "stdout",
     "output_type": "stream",
     "text": [
      "The first time you see The Second Renaissance it may look boring. Look at it at least twice and definitely watch part 2. It will change your view of the matrix. Are the human people the ones who started the war ? Is AI a bad thing ?\n"
     ]
    }
   ],
   "source": [
    "# Sample text\n",
    "text = \"The first time you see The Second Renaissance it may look boring. Look at it at least twice and definitely watch part 2. It will change your view of the matrix. Are the human people the ones who started the war ? Is AI a bad thing ?\"\n",
    "print(text)"
   ]
  },
  {
   "cell_type": "code",
   "execution_count": 5,
   "metadata": {},
   "outputs": [
    {
     "name": "stdout",
     "output_type": "stream",
     "text": [
      "the first time you see the second renaissance it may look boring. look at it at least twice and definitely watch part 2. it will change your view of the matrix. are the human people the ones who started the war ? is ai a bad thing ?\n"
     ]
    }
   ],
   "source": [
    "# Convert to lowercase\n",
    "text = text.lower() \n",
    "print(text)"
   ]
  },
  {
   "cell_type": "markdown",
   "metadata": {},
   "source": [
    "### Punctuation Removal"
   ]
  },
  {
   "cell_type": "code",
   "execution_count": 6,
   "metadata": {},
   "outputs": [
    {
     "name": "stdout",
     "output_type": "stream",
     "text": [
      "the first time you see the second renaissance it may look boring  look at it at least twice and definitely watch part 2  it will change your view of the matrix  are the human people the ones who started the war   is ai a bad thing  \n"
     ]
    }
   ],
   "source": [
    "import re\n",
    "\n",
    "# Remove punctuation characters\n",
    "text = re.sub(r\"[^a-zA-Z0-9]\", \" \", text) \n",
    "print(text)"
   ]
  },
  {
   "cell_type": "markdown",
   "metadata": {},
   "source": [
    "## Tokenization"
   ]
  },
  {
   "cell_type": "code",
   "execution_count": 7,
   "metadata": {},
   "outputs": [
    {
     "name": "stdout",
     "output_type": "stream",
     "text": [
      "['the', 'first', 'time', 'you', 'see', 'the', 'second', 'renaissance', 'it', 'may', 'look', 'boring', 'look', 'at', 'it', 'at', 'least', 'twice', 'and', 'definitely', 'watch', 'part', '2', 'it', 'will', 'change', 'your', 'view', 'of', 'the', 'matrix', 'are', 'the', 'human', 'people', 'the', 'ones', 'who', 'started', 'the', 'war', 'is', 'ai', 'a', 'bad', 'thing']\n"
     ]
    }
   ],
   "source": [
    "# Split text into tokens (words)\n",
    "words = text.split()\n",
    "print(words)"
   ]
  },
  {
   "cell_type": "markdown",
   "metadata": {},
   "source": [
    "### NLTK: Natural Language ToolKit"
   ]
  },
  {
   "cell_type": "code",
   "execution_count": 8,
   "metadata": {},
   "outputs": [],
   "source": [
    "import nltk\n",
    "nltk.data.path.append(os.path.join(os.getcwd(), \"nltk_data\"))"
   ]
  },
  {
   "cell_type": "code",
   "execution_count": 9,
   "metadata": {},
   "outputs": [
    {
     "name": "stdout",
     "output_type": "stream",
     "text": [
      "Dr. Smith graduated from the University of Washington. He later started an analytics firm called Lux, which catered to enterprise customers.\n"
     ]
    }
   ],
   "source": [
    "# Another sample text\n",
    "text = \"Dr. Smith graduated from the University of Washington. He later started an analytics firm called Lux, which catered to enterprise customers.\"\n",
    "print(text)"
   ]
  },
  {
   "cell_type": "markdown",
   "metadata": {},
   "source": [
    "### Punctuation Removal"
   ]
  },
  {
   "cell_type": "code",
   "execution_count": 10,
   "metadata": {},
   "outputs": [
    {
     "name": "stdout",
     "output_type": "stream",
     "text": [
      "Dr  Smith graduated from the University of Washington  He later started an analytics firm called Lux  which catered to enterprise customers \n"
     ]
    }
   ],
   "source": [
    "import re\n",
    "\n",
    "# Remove punctuation characters\n",
    "text = re.sub(r\"[^a-zA-Z0-9]\", \" \", text) \n",
    "print(text)"
   ]
  },
  {
   "cell_type": "markdown",
   "metadata": {},
   "source": [
    "## Tokenization"
   ]
  },
  {
   "cell_type": "code",
   "execution_count": 13,
   "metadata": {},
   "outputs": [
    {
     "name": "stdout",
     "output_type": "stream",
     "text": [
      "['Dr', 'Smith', 'graduated', 'from', 'the', 'University', 'of', 'Washington', 'He', 'later', 'started', 'an', 'analytics', 'firm', 'called', 'Lux', 'which', 'catered', 'to', 'enterprise', 'customers']\n"
     ]
    }
   ],
   "source": [
    "# Split text into tokens (words)\n",
    "words = text.split()\n",
    "print(words)"
   ]
  },
  {
   "cell_type": "markdown",
   "metadata": {},
   "source": [
    "### NLTK: Natural Language ToolKit"
   ]
  },
  {
   "cell_type": "code",
   "execution_count": 19,
   "metadata": {},
   "outputs": [],
   "source": [
    "import os\n",
    "import nltk\n",
    "nltk.data.path.append(os.path.join(os.getcwd(), \"nltk_data\"))"
   ]
  },
  {
   "cell_type": "code",
   "execution_count": 20,
   "metadata": {},
   "outputs": [
    {
     "name": "stdout",
     "output_type": "stream",
     "text": [
      "Dr. Smith graduated from the University of Washington. He later started an analytics firm called Lux, which catered to enterprise customers.\n"
     ]
    }
   ],
   "source": [
    "# Another sample text\n",
    "text = \"Dr. Smith graduated from the University of Washington. He later started an analytics firm called Lux, which catered to enterprise customers.\"\n",
    "print(text)"
   ]
  },
  {
   "cell_type": "code",
   "execution_count": 21,
   "metadata": {},
   "outputs": [
    {
     "name": "stdout",
     "output_type": "stream",
     "text": [
      "['Dr.', 'Smith', 'graduated', 'from', 'the', 'University', 'of', 'Washington', '.', 'He', 'later', 'started', 'an', 'analytics', 'firm', 'called', 'Lux', ',', 'which', 'catered', 'to', 'enterprise', 'customers', '.']\n"
     ]
    }
   ],
   "source": [
    "from nltk.tokenize import word_tokenize\n",
    "\n",
    "# Split text into words using NLTK\n",
    "words = word_tokenize(text)\n",
    "print(words)"
   ]
  },
  {
   "cell_type": "code",
   "execution_count": 22,
   "metadata": {},
   "outputs": [
    {
     "name": "stdout",
     "output_type": "stream",
     "text": [
      "['Dr. Smith graduated from the University of Washington.', 'He later started an analytics firm called Lux, which catered to enterprise customers.']\n"
     ]
    }
   ],
   "source": [
    "from nltk.tokenize import sent_tokenize\n",
    "\n",
    "# Split text into sentences\n",
    "sentences = sent_tokenize(text)\n",
    "print(sentences)"
   ]
  },
  {
   "cell_type": "code",
   "execution_count": 27,
   "metadata": {},
   "outputs": [
    {
     "name": "stdout",
     "output_type": "stream",
     "text": [
      "['i', 'me', 'my', 'myself', 'we', 'our', 'ours', 'ourselves', 'you', \"you're\", \"you've\", \"you'll\", \"you'd\", 'your', 'yours', 'yourself', 'yourselves', 'he', 'him', 'his', 'himself', 'she', \"she's\", 'her', 'hers', 'herself', 'it', \"it's\", 'its', 'itself', 'they', 'them', 'their', 'theirs', 'themselves', 'what', 'which', 'who', 'whom', 'this', 'that', \"that'll\", 'these', 'those', 'am', 'is', 'are', 'was', 'were', 'be', 'been', 'being', 'have', 'has', 'had', 'having', 'do', 'does', 'did', 'doing', 'a', 'an', 'the', 'and', 'but', 'if', 'or', 'because', 'as', 'until', 'while', 'of', 'at', 'by', 'for', 'with', 'about', 'against', 'between', 'into', 'through', 'during', 'before', 'after', 'above', 'below', 'to', 'from', 'up', 'down', 'in', 'out', 'on', 'off', 'over', 'under', 'again', 'further', 'then', 'once', 'here', 'there', 'when', 'where', 'why', 'how', 'all', 'any', 'both', 'each', 'few', 'more', 'most', 'other', 'some', 'such', 'no', 'nor', 'not', 'only', 'own', 'same', 'so', 'than', 'too', 'very', 's', 't', 'can', 'will', 'just', 'don', \"don't\", 'should', \"should've\", 'now', 'd', 'll', 'm', 'o', 're', 've', 'y', 'ain', 'aren', \"aren't\", 'couldn', \"couldn't\", 'didn', \"didn't\", 'doesn', \"doesn't\", 'hadn', \"hadn't\", 'hasn', \"hasn't\", 'haven', \"haven't\", 'isn', \"isn't\", 'ma', 'mightn', \"mightn't\", 'mustn', \"mustn't\", 'needn', \"needn't\", 'shan', \"shan't\", 'shouldn', \"shouldn't\", 'wasn', \"wasn't\", 'weren', \"weren't\", 'won', \"won't\", 'wouldn', \"wouldn't\"]\n"
     ]
    }
   ],
   "source": [
    "# List stop words\n",
    "from nltk.corpus import stopwords\n",
    "print(stopwords.words(\"english\"))"
   ]
  },
  {
   "cell_type": "code",
   "execution_count": 28,
   "metadata": {},
   "outputs": [
    {
     "name": "stdout",
     "output_type": "stream",
     "text": [
      "['the', 'first', 'time', 'you', 'see', 'the', 'second', 'renaissance', 'it', 'may', 'look', 'boring', 'look', 'at', 'it', 'at', 'least', 'twice', 'and', 'definitely', 'watch', 'part', '2', 'it', 'will', 'change', 'your', 'view', 'of', 'the', 'matrix', 'are', 'the', 'human', 'people', 'the', 'ones', 'who', 'started', 'the', 'war', 'is', 'ai', 'a', 'bad', 'thing']\n"
     ]
    }
   ],
   "source": [
    "# Reset text\n",
    "text = \"The first time you see The Second Renaissance it may look boring. Look at it at least twice and definitely watch part 2. It will change your view of the matrix. Are the human people the ones who started the war ? Is AI a bad thing ?\"\n",
    "\n",
    "# Normalize it\n",
    "text = re.sub(r\"[^a-zA-Z0-9]\", \" \", text.lower())\n",
    "\n",
    "# Tokenize it\n",
    "words = text.split()\n",
    "print(words)"
   ]
  },
  {
   "cell_type": "code",
   "execution_count": 29,
   "metadata": {},
   "outputs": [
    {
     "name": "stdout",
     "output_type": "stream",
     "text": [
      "['first', 'time', 'see', 'second', 'renaissance', 'may', 'look', 'boring', 'look', 'least', 'twice', 'definitely', 'watch', 'part', '2', 'change', 'view', 'matrix', 'human', 'people', 'ones', 'started', 'war', 'ai', 'bad', 'thing']\n"
     ]
    }
   ],
   "source": [
    "# Remove stop words\n",
    "words = [w for w in words if w not in stopwords.words(\"english\")]\n",
    "print(words)"
   ]
  },
  {
   "cell_type": "markdown",
   "metadata": {},
   "source": [
    "### Sentence Parsing"
   ]
  },
  {
   "cell_type": "code",
   "execution_count": 31,
   "metadata": {},
   "outputs": [
    {
     "name": "stdout",
     "output_type": "stream",
     "text": [
      "(S\n",
      "  (NP I)\n",
      "  (VP\n",
      "    (VP (V shot) (NP (Det an) (N elephant)))\n",
      "    (PP (P in) (NP (Det my) (N pajamas)))))\n",
      "(S\n",
      "  (NP I)\n",
      "  (VP\n",
      "    (V shot)\n",
      "    (NP (Det an) (N elephant) (PP (P in) (NP (Det my) (N pajamas))))))\n"
     ]
    }
   ],
   "source": [
    "import nltk\n",
    "\n",
    "# Define a custom grammar\n",
    "my_grammar = nltk.CFG.fromstring(\"\"\"\n",
    "S -> NP VP\n",
    "PP -> P NP\n",
    "NP -> Det N | Det N PP | 'I'\n",
    "VP -> V NP | VP PP\n",
    "Det -> 'an' | 'my'\n",
    "N -> 'elephant' | 'pajamas'\n",
    "V -> 'shot'\n",
    "P -> 'in'\n",
    "\"\"\")\n",
    "parser = nltk.ChartParser(my_grammar)\n",
    "\n",
    "# Parse a sentence\n",
    "sentence = word_tokenize(\"I shot an elephant in my pajamas\")\n",
    "for tree in parser.parse(sentence):\n",
    "    print(tree)"
   ]
  },
  {
   "cell_type": "code",
   "execution_count": null,
   "metadata": {},
   "outputs": [],
   "source": [
    "#from nltk import pos_tag\n",
    "\n",
    "## Tag parts of speech (PoS)\n",
    "\n",
    "#sentence = word_tokenize(\"I always lie down to tell a lie.\")\n",
    "#pos_tag(sentence)"
   ]
  },
  {
   "cell_type": "markdown",
   "metadata": {},
   "source": [
    "## Stemming & Lemmatization\n",
    "\n",
    "### Stemming"
   ]
  },
  {
   "cell_type": "code",
   "execution_count": 32,
   "metadata": {},
   "outputs": [
    {
     "name": "stdout",
     "output_type": "stream",
     "text": [
      "['first', 'time', 'see', 'second', 'renaiss', 'may', 'look', 'bore', 'look', 'least', 'twice', 'definit', 'watch', 'part', '2', 'chang', 'view', 'matrix', 'human', 'peopl', 'one', 'start', 'war', 'ai', 'bad', 'thing']\n"
     ]
    }
   ],
   "source": [
    "from nltk.stem.porter import PorterStemmer\n",
    "\n",
    "# Reduce words to their stems\n",
    "stemmed = [PorterStemmer().stem(w) for w in words]\n",
    "print(stemmed)"
   ]
  },
  {
   "cell_type": "code",
   "execution_count": 33,
   "metadata": {},
   "outputs": [
    {
     "name": "stdout",
     "output_type": "stream",
     "text": [
      "['first', 'time', 'see', 'second', 'renaissance', 'may', 'look', 'boring', 'look', 'least', 'twice', 'definitely', 'watch', 'part', '2', 'change', 'view', 'matrix', 'human', 'people', 'one', 'started', 'war', 'ai', 'bad', 'thing']\n"
     ]
    }
   ],
   "source": [
    "from nltk.stem.wordnet import WordNetLemmatizer\n",
    "\n",
    "# Reduce words to their root form\n",
    "lemmed = [WordNetLemmatizer().lemmatize(w) for w in words]\n",
    "print(lemmed)"
   ]
  },
  {
   "cell_type": "code",
   "execution_count": 34,
   "metadata": {},
   "outputs": [
    {
     "name": "stdout",
     "output_type": "stream",
     "text": [
      "['first', 'time', 'see', 'second', 'renaissance', 'may', 'look', 'bore', 'look', 'least', 'twice', 'definitely', 'watch', 'part', '2', 'change', 'view', 'matrix', 'human', 'people', 'one', 'start', 'war', 'ai', 'bad', 'thing']\n"
     ]
    }
   ],
   "source": [
    "# Lemmatize verbs by specifying pos\n",
    "lemmed = [WordNetLemmatizer().lemmatize(w, pos='v') for w in lemmed]\n",
    "print(lemmed)"
   ]
  },
  {
   "cell_type": "markdown",
   "metadata": {},
   "source": [
    "## Cleaning"
   ]
  },
  {
   "cell_type": "code",
   "execution_count": 26,
   "metadata": {},
   "outputs": [
    {
     "name": "stdout",
     "output_type": "stream",
     "text": [
      "<html op=\"news\"><head><meta name=\"referrer\" content=\"origin\"><meta name=\"viewport\" content=\"width=device-width, initial-scale=1.0\"><link rel=\"stylesheet\" type=\"text/css\" href=\"news.css?uSuYgocPI4FsVd9L4XbA\">\n",
      "        <link rel=\"shortcut icon\" href=\"favicon.ico\">\n",
      "          <link rel=\"alternate\" type=\"application/rss+xml\" title=\"RSS\" href=\"rss\">\n",
      "        <title>Hacker News</title></head><body><center><table id=\"hnmain\" border=\"0\" cellpadding=\"0\" cellspacing=\"0\" width=\"85%\" bgcolor=\"#f6f6ef\">\n",
      "        <tr><td bgcolor=\"#ff6600\"><table border=\"0\" cellpadding=\"0\" cellspacing=\"0\" width=\"100%\" style=\"padding:2px\"><tr><td style=\"width:18px;padding-right:4px\"><a href=\"https://news.ycombinator.com\"><img src=\"y18.gif\" width=\"18\" height=\"18\" style=\"border:1px white solid;\"></a></td>\n",
      "                  <td style=\"line-height:12pt; height:10px;\"><span class=\"pagetop\"><b class=\"hnname\"><a href=\"news\">Hacker News</a></b>\n",
      "              <a href=\"newest\">new</a> | <a href=\"front\">past</a> | <a href=\"newcomments\">comments</a> | <a href=\"ask\">ask</a> | <a href=\"show\">show</a> | <a href=\"jobs\">jobs</a> | <a href=\"submit\">submit</a>            </span></td><td style=\"text-align:right;padding-right:4px;\"><span class=\"pagetop\">\n",
      "                              <a href=\"login?goto=news\">login</a>\n",
      "                          </span></td>\n",
      "              </tr></table></td></tr>\n",
      "<tr id=\"pagespace\" title=\"\" style=\"height:10px\"></tr><tr><td><table border=\"0\" cellpadding=\"0\" cellspacing=\"0\" class=\"itemlist\">\n",
      "              <tr class='athing' id='22406277'>\n",
      "      <td align=\"right\" valign=\"top\" class=\"title\"><span class=\"rank\">1.</span></td>      <td valign=\"top\" class=\"votelinks\"><center><a id='up_22406277' href='vote?id=22406277&amp;how=up&amp;goto=news'><div class='votearrow' title='upvote'></div></a></center></td><td class=\"title\"><a href=\"https://txti.es/cloudflare-deleted-my-dns\" class=\"storylink\">Cloudflare silently deleted my DNS records</a><span class=\"sitebit comhead\"> (<a href=\"from?site=txti.es\"><span class=\"sitestr\">txti.es</span></a>)</span></td></tr><tr><td colspan=\"2\"></td><td class=\"subtext\">\n",
      "        <span class=\"score\" id=\"score_22406277\">53 points</span> by <a href=\"user?id=iudqnolq\" class=\"hnuser\">iudqnolq</a> <span class=\"age\"><a href=\"item?id=22406277\">29 minutes ago</a></span> <span id=\"unv_22406277\"></span> | <a href=\"hide?id=22406277&amp;goto=news\">hide</a> | <a href=\"item?id=22406277\">4&nbsp;comments</a>              </td></tr>\n",
      "      <tr class=\"spacer\" style=\"height:5px\"></tr>\n",
      "                <tr class='athing' id='22404264'>\n",
      "      <td align=\"right\" valign=\"top\" class=\"title\"><span class=\"rank\">2.</span></td>      <td valign=\"top\" class=\"votelinks\"><center><a id='up_22404264' href='vote?id=22404264&amp;how=up&amp;goto=news'><div class='votearrow' title='upvote'></div></a></center></td><td class=\"title\"><a href=\"https://dusty.phillips.codes/2020/02/15/on-voice-coding/\" class=\"storylink\">On Voice Coding</a><span class=\"sitebit comhead\"> (<a href=\"from?site=phillips.codes\"><span class=\"sitestr\">phillips.codes</span></a>)</span></td></tr><tr><td colspan=\"2\"></td><td class=\"subtext\">\n",
      "        <span class=\"score\" id=\"score_22404264\">161 points</span> by <a href=\"user?id=buchuki\" class=\"hnuser\">buchuki</a> <span class=\"age\"><a href=\"item?id=22404264\">3 hours ago</a></span> <span id=\"unv_22404264\"></span> | <a href=\"hide?id=22404264&amp;goto=news\">hide</a> | <a href=\"item?id=22404264\">88&nbsp;comments</a>              </td></tr>\n",
      "      <tr class=\"spacer\" style=\"height:5px\"></tr>\n",
      "                <tr class='athing' id='22405965'>\n",
      "      <td align=\"right\" valign=\"top\" class=\"title\"><span class=\"rank\">3.</span></td>      <td valign=\"top\" class=\"votelinks\"><center><a id='up_22405965' href='vote?id=22405965&amp;how=up&amp;goto=news'><div class='votearrow' title='upvote'></div></a></center></td><td class=\"title\"><a href=\"https://uk.reuters.com/article/us-china-health-who/who-says-no-longer-uses-pandemic-category-but-virus-still-emergency-idUKKCN20I0N8\" class=\"storylink\">WHO says it no longer uses 'pandemic' category, but virus still emergency</a><span class=\"sitebit comhead\"> (<a href=\"from?site=reuters.com\"><span class=\"sitestr\">reuters.com</span></a>)</span></td></tr><tr><td colspan=\"2\"></td><td class=\"subtext\">\n",
      "        <span class=\"score\" id=\"score_22405965\">26 points</span> by <a href=\"user?id=jacquesm\" class=\"hnuser\">jacquesm</a> <span class=\"age\"><a href=\"item?id=22405965\">59 minutes ago</a></span> <span id=\"unv_22405965\"></span> | <a href=\"hide?id=22405965&amp;goto=news\">hide</a> | <a href=\"item?id=22405965\">3&nbsp;comments</a>              </td></tr>\n",
      "      <tr class=\"spacer\" style=\"height:5px\"></tr>\n",
      "                <tr class='athing' id='22404862'>\n",
      "      <td align=\"right\" valign=\"top\" class=\"title\"><span class=\"rank\">4.</span></td>      <td valign=\"top\" class=\"votelinks\"><center><a id='up_22404862' href='vote?id=22404862&amp;how=up&amp;goto=news'><div class='votearrow' title='upvote'></div></a></center></td><td class=\"title\"><a href=\"http://glench.com/LegibleMathematics/\" class=\"storylink\">Legible Mathematics – Sketches of an interactive arithmetic for programming</a><span class=\"sitebit comhead\"> (<a href=\"from?site=glench.com\"><span class=\"sitestr\">glench.com</span></a>)</span></td></tr><tr><td colspan=\"2\"></td><td class=\"subtext\">\n",
      "        <span class=\"score\" id=\"score_22404862\">56 points</span> by <a href=\"user?id=throwaway3157\" class=\"hnuser\">throwaway3157</a> <span class=\"age\"><a href=\"item?id=22404862\">2 hours ago</a></span> <span id=\"unv_22404862\"></span> | <a href=\"hide?id=22404862&amp;goto=news\">hide</a> | <a href=\"item?id=22404862\">23&nbsp;comments</a>              </td></tr>\n",
      "      <tr class=\"spacer\" style=\"height:5px\"></tr>\n",
      "                <tr class='athing' id='22403713'>\n",
      "      <td align=\"right\" valign=\"top\" class=\"title\"><span class=\"rank\">5.</span></td>      <td valign=\"top\" class=\"votelinks\"><center><a id='up_22403713' href='vote?id=22403713&amp;how=up&amp;goto=news'><div class='votearrow' title='upvote'></div></a></center></td><td class=\"title\"><a href=\"https://github.com/bastion-rs/bastion\" class=\"storylink\">Bastion – Highly-available Distributed Fault-tolerant Runtime</a><span class=\"sitebit comhead\"> (<a href=\"from?site=github.com\"><span class=\"sitestr\">github.com</span></a>)</span></td></tr><tr><td colspan=\"2\"></td><td class=\"subtext\">\n",
      "        <span class=\"score\" id=\"score_22403713\">129 points</span> by <a href=\"user?id=windor\" class=\"hnuser\">windor</a> <span class=\"age\"><a href=\"item?id=22403713\">4 hours ago</a></span> <span id=\"unv_22403713\"></span> | <a href=\"hide?id=22403713&amp;goto=news\">hide</a> | <a href=\"item?id=22403713\">25&nbsp;comments</a>              </td></tr>\n",
      "      <tr class=\"spacer\" style=\"height:5px\"></tr>\n",
      "                <tr class='athing' id='22404004'>\n",
      "      <td align=\"right\" valign=\"top\" class=\"title\"><span class=\"rank\">6.</span></td>      <td valign=\"top\" class=\"votelinks\"><center><a id='up_22404004' href='vote?id=22404004&amp;how=up&amp;goto=news'><div class='votearrow' title='upvote'></div></a></center></td><td class=\"title\"><a href=\"https://arxiv.org/abs/2002.09449\" class=\"storylink\">Snel: SQL Native Execution for LLVM</a><span class=\"sitebit comhead\"> (<a href=\"from?site=arxiv.org\"><span class=\"sitestr\">arxiv.org</span></a>)</span></td></tr><tr><td colspan=\"2\"></td><td class=\"subtext\">\n",
      "        <span class=\"score\" id=\"score_22404004\">78 points</span> by <a href=\"user?id=wslh\" class=\"hnuser\">wslh</a> <span class=\"age\"><a href=\"item?id=22404004\">4 hours ago</a></span> <span id=\"unv_22404004\"></span> | <a href=\"hide?id=22404004&amp;goto=news\">hide</a> | <a href=\"item?id=22404004\">18&nbsp;comments</a>              </td></tr>\n",
      "      <tr class=\"spacer\" style=\"height:5px\"></tr>\n",
      "                <tr class='athing' id='22401383'>\n",
      "      <td align=\"right\" valign=\"top\" class=\"title\"><span class=\"rank\">7.</span></td>      <td valign=\"top\" class=\"votelinks\"><center><a id='up_22401383' href='vote?id=22401383&amp;how=up&amp;goto=news'><div class='votearrow' title='upvote'></div></a></center></td><td class=\"title\"><a href=\"https://isometricleaves.wordpress.com/2020/02/12/haiku-alpha-1-rebirth-of-legend/\" class=\"storylink\">Haiku Alpha 1: Rebirth of legend</a><span class=\"sitebit comhead\"> (<a href=\"from?site=isometricleaves.wordpress.com\"><span class=\"sitestr\">isometricleaves.wordpress.com</span></a>)</span></td></tr><tr><td colspan=\"2\"></td><td class=\"subtext\">\n",
      "        <span class=\"score\" id=\"score_22401383\">39 points</span> by <a href=\"user?id=cosmojg\" class=\"hnuser\">cosmojg</a> <span class=\"age\"><a href=\"item?id=22401383\">2 hours ago</a></span> <span id=\"unv_22401383\"></span> | <a href=\"hide?id=22401383&amp;goto=news\">hide</a> | <a href=\"item?id=22401383\">4&nbsp;comments</a>              </td></tr>\n",
      "      <tr class=\"spacer\" style=\"height:5px\"></tr>\n",
      "                <tr class='athing' id='22406359'>\n",
      "      <td align=\"right\" valign=\"top\" class=\"title\"><span class=\"rank\">8.</span></td>      <td valign=\"top\" class=\"votelinks\"><center><a id='up_22406359' href='vote?id=22406359&amp;how=up&amp;goto=news'><div class='votearrow' title='upvote'></div></a></center></td><td class=\"title\"><a href=\"https://www.troyhunt.com/offshoring-roulette-lessons-from-outsourcing-to-india-china-and-the-philippines/\" class=\"storylink\" rel=\"nofollow\">Troy Hunt: Offshoring roulette: lessons from outsourcing (2016)</a><span class=\"sitebit comhead\"> (<a href=\"from?site=troyhunt.com\"><span class=\"sitestr\">troyhunt.com</span></a>)</span></td></tr><tr><td colspan=\"2\"></td><td class=\"subtext\">\n",
      "        <span class=\"score\" id=\"score_22406359\">6 points</span> by <a href=\"user?id=throwaway3157\" class=\"hnuser\">throwaway3157</a> <span class=\"age\"><a href=\"item?id=22406359\">23 minutes ago</a></span> <span id=\"unv_22406359\"></span> | <a href=\"hide?id=22406359&amp;goto=news\">hide</a> | <a href=\"item?id=22406359\">discuss</a>              </td></tr>\n",
      "      <tr class=\"spacer\" style=\"height:5px\"></tr>\n",
      "                <tr class='athing' id='22406560'>\n",
      "      <td align=\"right\" valign=\"top\" class=\"title\"><span class=\"rank\">9.</span></td>      <td valign=\"top\" class=\"votelinks\"><center><a id='up_22406560' href='vote?id=22406560&amp;how=up&amp;goto=news'><div class='votearrow' title='upvote'></div></a></center></td><td class=\"title\"><a href=\"item?id=22406560\" class=\"storylink\">Launch HN: Syndetic (YC W20) – Software for explaining datasets</a></td></tr><tr><td colspan=\"2\"></td><td class=\"subtext\">\n",
      "        <span class=\"score\" id=\"score_22406560\">3 points</span> by <a href=\"user?id=stevepike\" class=\"hnuser\">stevepike</a> <span class=\"age\"><a href=\"item?id=22406560\">4 minutes ago</a></span> <span id=\"unv_22406560\"></span> | <a href=\"hide?id=22406560&amp;goto=news\">hide</a> | <a href=\"item?id=22406560\">discuss</a>              </td></tr>\n",
      "      <tr class=\"spacer\" style=\"height:5px\"></tr>\n",
      "                <tr class='athing' id='22403625'>\n",
      "      <td align=\"right\" valign=\"top\" class=\"title\"><span class=\"rank\">10.</span></td>      <td valign=\"top\" class=\"votelinks\"><center><a id='up_22403625' href='vote?id=22403625&amp;how=up&amp;goto=news'><div class='votearrow' title='upvote'></div></a></center></td><td class=\"title\"><a href=\"https://np.reddit.com/r/scala/comments/en89or/when_should_i_use_cats_scalaz_instead_of_standard/fdxer1k/\" class=\"storylink\">The general value of typed functional programming lies in leaving no edge cases</a><span class=\"sitebit comhead\"> (<a href=\"from?site=reddit.com\"><span class=\"sitestr\">reddit.com</span></a>)</span></td></tr><tr><td colspan=\"2\"></td><td class=\"subtext\">\n",
      "        <span class=\"score\" id=\"score_22403625\">103 points</span> by <a href=\"user?id=jxub\" class=\"hnuser\">jxub</a> <span class=\"age\"><a href=\"item?id=22403625\">5 hours ago</a></span> <span id=\"unv_22403625\"></span> | <a href=\"hide?id=22403625&amp;goto=news\">hide</a> | <a href=\"item?id=22403625\">72&nbsp;comments</a>              </td></tr>\n",
      "      <tr class=\"spacer\" style=\"height:5px\"></tr>\n",
      "                <tr class='athing' id='22403565'>\n",
      "      <td align=\"right\" valign=\"top\" class=\"title\"><span class=\"rank\">11.</span></td>      <td valign=\"top\" class=\"votelinks\"><center><a id='up_22403565' href='vote?id=22403565&amp;how=up&amp;goto=news'><div class='votearrow' title='upvote'></div></a></center></td><td class=\"title\"><a href=\"https://cybernews.com/security/we-found-6-critical-paypal-vulnerabilities-and-paypal-punished-us/\" class=\"storylink\">We found six critical PayPal vulnerabilities, and PayPal punished us for it</a><span class=\"sitebit comhead\"> (<a href=\"from?site=cybernews.com\"><span class=\"sitestr\">cybernews.com</span></a>)</span></td></tr><tr><td colspan=\"2\"></td><td class=\"subtext\">\n",
      "        <span class=\"score\" id=\"score_22403565\">730 points</span> by <a href=\"user?id=teslademigod1\" class=\"hnuser\">teslademigod1</a> <span class=\"age\"><a href=\"item?id=22403565\">5 hours ago</a></span> <span id=\"unv_22403565\"></span> | <a href=\"hide?id=22403565&amp;goto=news\">hide</a> | <a href=\"item?id=22403565\">228&nbsp;comments</a>              </td></tr>\n",
      "      <tr class=\"spacer\" style=\"height:5px\"></tr>\n",
      "                <tr class='athing' id='22406070'>\n",
      "      <td align=\"right\" valign=\"top\" class=\"title\"><span class=\"rank\">12.</span></td>      <td valign=\"top\" class=\"votelinks\"><center><a id='up_22406070' href='vote?id=22406070&amp;how=up&amp;goto=news'><div class='votearrow' title='upvote'></div></a></center></td><td class=\"title\"><a href=\"https://buttondown.email/hillelwayne/archive/donald-knuth-was-framed/\" class=\"storylink\">Donald Knuth Was Framed</a><span class=\"sitebit comhead\"> (<a href=\"from?site=buttondown.email\"><span class=\"sitestr\">buttondown.email</span></a>)</span></td></tr><tr><td colspan=\"2\"></td><td class=\"subtext\">\n",
      "        <span class=\"score\" id=\"score_22406070\">32 points</span> by <a href=\"user?id=akalin\" class=\"hnuser\">akalin</a> <span class=\"age\"><a href=\"item?id=22406070\">48 minutes ago</a></span> <span id=\"unv_22406070\"></span> | <a href=\"hide?id=22406070&amp;goto=news\">hide</a> | <a href=\"item?id=22406070\">16&nbsp;comments</a>              </td></tr>\n",
      "      <tr class=\"spacer\" style=\"height:5px\"></tr>\n",
      "                <tr class='athing' id='22403247'>\n",
      "      <td align=\"right\" valign=\"top\" class=\"title\"><span class=\"rank\">13.</span></td>      <td valign=\"top\" class=\"votelinks\"><center><a id='up_22403247' href='vote?id=22403247&amp;how=up&amp;goto=news'><div class='votearrow' title='upvote'></div></a></center></td><td class=\"title\"><a href=\"https://www.youtube.com/watch?v=q8c5n_1dQm4\" class=\"storylink\">Lightbeam: A Highly-Optimising Streaming WebAssembly Compiler (2019) [video]</a><span class=\"sitebit comhead\"> (<a href=\"from?site=youtube.com\"><span class=\"sitestr\">youtube.com</span></a>)</span></td></tr><tr><td colspan=\"2\"></td><td class=\"subtext\">\n",
      "        <span class=\"score\" id=\"score_22403247\">75 points</span> by <a href=\"user?id=nonsince\" class=\"hnuser\">nonsince</a> <span class=\"age\"><a href=\"item?id=22403247\">6 hours ago</a></span> <span id=\"unv_22403247\"></span> | <a href=\"hide?id=22403247&amp;goto=news\">hide</a> | <a href=\"item?id=22403247\">9&nbsp;comments</a>              </td></tr>\n",
      "      <tr class=\"spacer\" style=\"height:5px\"></tr>\n",
      "                <tr class='athing' id='22403830'>\n",
      "      <td align=\"right\" valign=\"top\" class=\"title\"><span class=\"rank\">14.</span></td>      <td valign=\"top\" class=\"votelinks\"><center><a id='up_22403830' href='vote?id=22403830&amp;how=up&amp;goto=news'><div class='votearrow' title='upvote'></div></a></center></td><td class=\"title\"><a href=\"http://scotgov.maps.arcgis.com/apps/webappviewer/index.html?id=2de764a9303848ffb9a4cac0bd0b1aab\" class=\"storylink\">Trunk Road Gritter Tracker</a><span class=\"sitebit comhead\"> (<a href=\"from?site=arcgis.com\"><span class=\"sitestr\">arcgis.com</span></a>)</span></td></tr><tr><td colspan=\"2\"></td><td class=\"subtext\">\n",
      "        <span class=\"score\" id=\"score_22403830\">75 points</span> by <a href=\"user?id=hjkm\" class=\"hnuser\">hjkm</a> <span class=\"age\"><a href=\"item?id=22403830\">4 hours ago</a></span> <span id=\"unv_22403830\"></span> | <a href=\"hide?id=22403830&amp;goto=news\">hide</a> | <a href=\"item?id=22403830\">56&nbsp;comments</a>              </td></tr>\n",
      "      <tr class=\"spacer\" style=\"height:5px\"></tr>\n",
      "                <tr class='athing' id='22400329'>\n",
      "      <td align=\"right\" valign=\"top\" class=\"title\"><span class=\"rank\">15.</span></td>      <td valign=\"top\" class=\"votelinks\"><center><a id='up_22400329' href='vote?id=22400329&amp;how=up&amp;goto=news'><div class='votearrow' title='upvote'></div></a></center></td><td class=\"title\"><a href=\"https://blog.nelhage.com/post/reflections-on-performance/\" class=\"storylink\">Reflections on Software Performance</a><span class=\"sitebit comhead\"> (<a href=\"from?site=nelhage.com\"><span class=\"sitestr\">nelhage.com</span></a>)</span></td></tr><tr><td colspan=\"2\"></td><td class=\"subtext\">\n",
      "        <span class=\"score\" id=\"score_22400329\">106 points</span> by <a href=\"user?id=cespare\" class=\"hnuser\">cespare</a> <span class=\"age\"><a href=\"item?id=22400329\">7 hours ago</a></span> <span id=\"unv_22400329\"></span> | <a href=\"hide?id=22400329&amp;goto=news\">hide</a> | <a href=\"item?id=22400329\">27&nbsp;comments</a>              </td></tr>\n",
      "      <tr class=\"spacer\" style=\"height:5px\"></tr>\n",
      "                <tr class='athing' id='22399547'>\n",
      "      <td align=\"right\" valign=\"top\" class=\"title\"><span class=\"rank\">16.</span></td>      <td valign=\"top\" class=\"votelinks\"><center><a id='up_22399547' href='vote?id=22399547&amp;how=up&amp;goto=news'><div class='votearrow' title='upvote'></div></a></center></td><td class=\"title\"><a href=\"https://blog.pragmaticengineer.com/a-team-where-everyone-is-a-leader/\" class=\"storylink\">An Engineering Team Where Everyone Is a Leader</a><span class=\"sitebit comhead\"> (<a href=\"from?site=pragmaticengineer.com\"><span class=\"sitestr\">pragmaticengineer.com</span></a>)</span></td></tr><tr><td colspan=\"2\"></td><td class=\"subtext\">\n",
      "        <span class=\"score\" id=\"score_22399547\">96 points</span> by <a href=\"user?id=fagnerbrack\" class=\"hnuser\">fagnerbrack</a> <span class=\"age\"><a href=\"item?id=22399547\">6 hours ago</a></span> <span id=\"unv_22399547\"></span> | <a href=\"hide?id=22399547&amp;goto=news\">hide</a> | <a href=\"item?id=22399547\">35&nbsp;comments</a>              </td></tr>\n",
      "      <tr class=\"spacer\" style=\"height:5px\"></tr>\n",
      "                <tr class='athing' id='22389668'>\n",
      "      <td align=\"right\" valign=\"top\" class=\"title\"><span class=\"rank\">17.</span></td>      <td valign=\"top\" class=\"votelinks\"><center><a id='up_22389668' href='vote?id=22389668&amp;how=up&amp;goto=news'><div class='votearrow' title='upvote'></div></a></center></td><td class=\"title\"><a href=\"http://thinkingwithtype.com/letter/\" class=\"storylink\">A Visual Overview of Typography</a><span class=\"sitebit comhead\"> (<a href=\"from?site=thinkingwithtype.com\"><span class=\"sitestr\">thinkingwithtype.com</span></a>)</span></td></tr><tr><td colspan=\"2\"></td><td class=\"subtext\">\n",
      "        <span class=\"score\" id=\"score_22389668\">13 points</span> by <a href=\"user?id=scghost\" class=\"hnuser\">scghost</a> <span class=\"age\"><a href=\"item?id=22389668\">2 hours ago</a></span> <span id=\"unv_22389668\"></span> | <a href=\"hide?id=22389668&amp;goto=news\">hide</a> | <a href=\"item?id=22389668\">discuss</a>              </td></tr>\n",
      "      <tr class=\"spacer\" style=\"height:5px\"></tr>\n",
      "                <tr class='athing' id='22402707'>\n",
      "      <td align=\"right\" valign=\"top\" class=\"title\"><span class=\"rank\">18.</span></td>      <td valign=\"top\" class=\"votelinks\"><center><a id='up_22402707' href='vote?id=22402707&amp;how=up&amp;goto=news'><div class='votearrow' title='upvote'></div></a></center></td><td class=\"title\"><a href=\"https://www.politico.eu/pro/eu-commission-to-staff-switch-to-signal-messaging-app/\" class=\"storylink\">European Commission has told its staff to start using Signal</a><span class=\"sitebit comhead\"> (<a href=\"from?site=politico.eu\"><span class=\"sitestr\">politico.eu</span></a>)</span></td></tr><tr><td colspan=\"2\"></td><td class=\"subtext\">\n",
      "        <span class=\"score\" id=\"score_22402707\">418 points</span> by <a href=\"user?id=maxbaines\" class=\"hnuser\">maxbaines</a> <span class=\"age\"><a href=\"item?id=22402707\">8 hours ago</a></span> <span id=\"unv_22402707\"></span> | <a href=\"hide?id=22402707&amp;goto=news\">hide</a> | <a href=\"item?id=22402707\">236&nbsp;comments</a>              </td></tr>\n",
      "      <tr class=\"spacer\" style=\"height:5px\"></tr>\n",
      "                <tr class='athing' id='22406063'>\n",
      "      <td align=\"right\" valign=\"top\" class=\"title\"><span class=\"rank\">19.</span></td>      <td valign=\"top\" class=\"votelinks\"><center><a id='up_22406063' href='vote?id=22406063&amp;how=up&amp;goto=news'><div class='votearrow' title='upvote'></div></a></center></td><td class=\"title\"><a href=\"https://www.theatlantic.com/technology/archive/2020/02/coronavirus-and-blindness-authoritarianism/606922/\" class=\"storylink\">Covid19 Revealed Authoritarianism’s Fatal Flaw</a><span class=\"sitebit comhead\"> (<a href=\"from?site=theatlantic.com\"><span class=\"sitestr\">theatlantic.com</span></a>)</span></td></tr><tr><td colspan=\"2\"></td><td class=\"subtext\">\n",
      "        <span class=\"score\" id=\"score_22406063\">26 points</span> by <a href=\"user?id=black6\" class=\"hnuser\">black6</a> <span class=\"age\"><a href=\"item?id=22406063\">49 minutes ago</a></span> <span id=\"unv_22406063\"></span> | <a href=\"hide?id=22406063&amp;goto=news\">hide</a> | <a href=\"item?id=22406063\">6&nbsp;comments</a>              </td></tr>\n",
      "      <tr class=\"spacer\" style=\"height:5px\"></tr>\n",
      "                <tr class='athing' id='22404733'>\n",
      "      <td align=\"right\" valign=\"top\" class=\"title\"><span class=\"rank\">20.</span></td>      <td valign=\"top\" class=\"votelinks\"><center><a id='up_22404733' href='vote?id=22404733&amp;how=up&amp;goto=news'><div class='votearrow' title='upvote'></div></a></center></td><td class=\"title\"><a href=\"https://www.nytimes.com/2020/02/24/science/katherine-johnson-dead.html\" class=\"storylink\">Katherine Johnson Dies at 101; Mathematician Broke Barriers at NASA</a><span class=\"sitebit comhead\"> (<a href=\"from?site=nytimes.com\"><span class=\"sitestr\">nytimes.com</span></a>)</span></td></tr><tr><td colspan=\"2\"></td><td class=\"subtext\">\n",
      "        <span class=\"score\" id=\"score_22404733\">254 points</span> by <a href=\"user?id=uptown\" class=\"hnuser\">uptown</a> <span class=\"age\"><a href=\"item?id=22404733\">2 hours ago</a></span> <span id=\"unv_22404733\"></span> | <a href=\"hide?id=22404733&amp;goto=news\">hide</a> | <a href=\"item?id=22404733\">27&nbsp;comments</a>              </td></tr>\n",
      "      <tr class=\"spacer\" style=\"height:5px\"></tr>\n",
      "                <tr class='athing' id='22402662'>\n",
      "      <td align=\"right\" valign=\"top\" class=\"title\"><span class=\"rank\">21.</span></td>      <td valign=\"top\" class=\"votelinks\"><center><a id='up_22402662' href='vote?id=22402662&amp;how=up&amp;goto=news'><div class='votearrow' title='upvote'></div></a></center></td><td class=\"title\"><a href=\"https://www.dw.com/en/smartphone-startups-take-on-google-apple-and-put-privacy-first/a-52369255\" class=\"storylink\">Smartphone startups take on Google, Apple and put privacy first</a><span class=\"sitebit comhead\"> (<a href=\"from?site=dw.com\"><span class=\"sitestr\">dw.com</span></a>)</span></td></tr><tr><td colspan=\"2\"></td><td class=\"subtext\">\n",
      "        <span class=\"score\" id=\"score_22402662\">90 points</span> by <a href=\"user?id=indidea\" class=\"hnuser\">indidea</a> <span class=\"age\"><a href=\"item?id=22402662\">9 hours ago</a></span> <span id=\"unv_22402662\"></span> | <a href=\"hide?id=22402662&amp;goto=news\">hide</a> | <a href=\"item?id=22402662\">55&nbsp;comments</a>              </td></tr>\n",
      "      <tr class=\"spacer\" style=\"height:5px\"></tr>\n",
      "                <tr class='athing' id='22400375'>\n",
      "      <td align=\"right\" valign=\"top\" class=\"title\"><span class=\"rank\">22.</span></td>      <td valign=\"top\" class=\"votelinks\"><center><a id='up_22400375' href='vote?id=22400375&amp;how=up&amp;goto=news'><div class='votearrow' title='upvote'></div></a></center></td><td class=\"title\"><a href=\"https://www.neilwithdata.com/mathematics-self-learner\" class=\"storylink\">Mathematics for the Adventurous Self-Learner</a><span class=\"sitebit comhead\"> (<a href=\"from?site=neilwithdata.com\"><span class=\"sitestr\">neilwithdata.com</span></a>)</span></td></tr><tr><td colspan=\"2\"></td><td class=\"subtext\">\n",
      "        <span class=\"score\" id=\"score_22400375\">1013 points</span> by <a href=\"user?id=nsainsbury\" class=\"hnuser\">nsainsbury</a> <span class=\"age\"><a href=\"item?id=22400375\">17 hours ago</a></span> <span id=\"unv_22400375\"></span> | <a href=\"hide?id=22400375&amp;goto=news\">hide</a> | <a href=\"item?id=22400375\">177&nbsp;comments</a>              </td></tr>\n",
      "      <tr class=\"spacer\" style=\"height:5px\"></tr>\n",
      "                <tr class='athing' id='22402358'>\n",
      "      <td align=\"right\" valign=\"top\" class=\"title\"><span class=\"rank\">23.</span></td>      <td valign=\"top\" class=\"votelinks\"><center><a id='up_22402358' href='vote?id=22402358&amp;how=up&amp;goto=news'><div class='votearrow' title='upvote'></div></a></center></td><td class=\"title\"><a href=\"https://github.com/jhen0409/rn-webrtc-arkit-integration\" class=\"storylink\">Capturing ARKit scene into WebRTC video stream for React Native</a><span class=\"sitebit comhead\"> (<a href=\"from?site=github.com\"><span class=\"sitestr\">github.com</span></a>)</span></td></tr><tr><td colspan=\"2\"></td><td class=\"subtext\">\n",
      "        <span class=\"score\" id=\"score_22402358\">70 points</span> by <a href=\"user?id=jhen0409\" class=\"hnuser\">jhen0409</a> <span class=\"age\"><a href=\"item?id=22402358\">10 hours ago</a></span> <span id=\"unv_22402358\"></span> | <a href=\"hide?id=22402358&amp;goto=news\">hide</a> | <a href=\"item?id=22402358\">8&nbsp;comments</a>              </td></tr>\n",
      "      <tr class=\"spacer\" style=\"height:5px\"></tr>\n",
      "                <tr class='athing' id='22399363'>\n",
      "      <td align=\"right\" valign=\"top\" class=\"title\"><span class=\"rank\">24.</span></td>      <td valign=\"top\" class=\"votelinks\"><center><a id='up_22399363' href='vote?id=22399363&amp;how=up&amp;goto=news'><div class='votearrow' title='upvote'></div></a></center></td><td class=\"title\"><a href=\"https://www.junglecoder.com/blog/warming-up-to-unit-testing\" class=\"storylink\">Warming Up to Unit Testing</a><span class=\"sitebit comhead\"> (<a href=\"from?site=junglecoder.com\"><span class=\"sitestr\">junglecoder.com</span></a>)</span></td></tr><tr><td colspan=\"2\"></td><td class=\"subtext\">\n",
      "        <span class=\"score\" id=\"score_22399363\">22 points</span> by <a href=\"user?id=yumaikas\" class=\"hnuser\">yumaikas</a> <span class=\"age\"><a href=\"item?id=22399363\">5 hours ago</a></span> <span id=\"unv_22399363\"></span> | <a href=\"hide?id=22399363&amp;goto=news\">hide</a> | <a href=\"item?id=22399363\">31&nbsp;comments</a>              </td></tr>\n",
      "      <tr class=\"spacer\" style=\"height:5px\"></tr>\n",
      "                <tr class='athing' id='22404989'>\n",
      "      <td align=\"right\" valign=\"top\" class=\"title\"><span class=\"rank\">25.</span></td>      <td valign=\"top\" class=\"votelinks\"><center><a id='up_22404989' href='vote?id=22404989&amp;how=up&amp;goto=news'><div class='votearrow' title='upvote'></div></a></center></td><td class=\"title\"><a href=\"item?id=22404989\" class=\"storylink\">Ask HN: What are good distance learning Bachelor's/Master's degrees one can do?</a></td></tr><tr><td colspan=\"2\"></td><td class=\"subtext\">\n",
      "        <span class=\"score\" id=\"score_22404989\">68 points</span> by <a href=\"user?id=polyphonicist\" class=\"hnuser\">polyphonicist</a> <span class=\"age\"><a href=\"item?id=22404989\">2 hours ago</a></span> <span id=\"unv_22404989\"></span> | <a href=\"hide?id=22404989&amp;goto=news\">hide</a> | <a href=\"item?id=22404989\">31&nbsp;comments</a>              </td></tr>\n",
      "      <tr class=\"spacer\" style=\"height:5px\"></tr>\n",
      "                <tr class='athing' id='22396824'>\n",
      "      <td align=\"right\" valign=\"top\" class=\"title\"><span class=\"rank\">26.</span></td>      <td valign=\"top\" class=\"votelinks\"><center><a id='up_22396824' href='vote?id=22396824&amp;how=up&amp;goto=news'><div class='votearrow' title='upvote'></div></a></center></td><td class=\"title\"><a href=\"https://grep.app\" class=\"storylink\">Show HN: Search code in GitHub repos using regular expressions</a><span class=\"sitebit comhead\"> (<a href=\"from?site=grep.app\"><span class=\"sitestr\">grep.app</span></a>)</span></td></tr><tr><td colspan=\"2\"></td><td class=\"subtext\">\n",
      "        <span class=\"score\" id=\"score_22396824\">514 points</span> by <a href=\"user?id=danfox\" class=\"hnuser\">danfox</a> <span class=\"age\"><a href=\"item?id=22396824\">1 day ago</a></span> <span id=\"unv_22396824\"></span> | <a href=\"hide?id=22396824&amp;goto=news\">hide</a> | <a href=\"item?id=22396824\">141&nbsp;comments</a>              </td></tr>\n",
      "      <tr class=\"spacer\" style=\"height:5px\"></tr>\n",
      "                <tr class='athing' id='22401827'>\n",
      "      <td align=\"right\" valign=\"top\" class=\"title\"><span class=\"rank\">27.</span></td>      <td valign=\"top\" class=\"votelinks\"><center><a id='up_22401827' href='vote?id=22401827&amp;how=up&amp;goto=news'><div class='votearrow' title='upvote'></div></a></center></td><td class=\"title\"><a href=\"https://www.nybooks.com/articles/2020/03/12/adjuncts-serfs-of-academe/\" class=\"storylink\">Serfs of Academe</a><span class=\"sitebit comhead\"> (<a href=\"from?site=nybooks.com\"><span class=\"sitestr\">nybooks.com</span></a>)</span></td></tr><tr><td colspan=\"2\"></td><td class=\"subtext\">\n",
      "        <span class=\"score\" id=\"score_22401827\">22 points</span> by <a href=\"user?id=badcede\" class=\"hnuser\">badcede</a> <span class=\"age\"><a href=\"item?id=22401827\">4 hours ago</a></span> <span id=\"unv_22401827\"></span> | <a href=\"hide?id=22401827&amp;goto=news\">hide</a> | <a href=\"item?id=22401827\">14&nbsp;comments</a>              </td></tr>\n",
      "      <tr class=\"spacer\" style=\"height:5px\"></tr>\n",
      "                <tr class='athing' id='22403680'>\n",
      "      <td align=\"right\" valign=\"top\" class=\"title\"><span class=\"rank\">28.</span></td>      <td valign=\"top\" class=\"votelinks\"><center><a id='up_22403680' href='vote?id=22403680&amp;how=up&amp;goto=news'><div class='votearrow' title='upvote'></div></a></center></td><td class=\"title\"><a href=\"https://blog.cloudflare.com/cloudflares-gen-x-servers-for-an-accelerated-future/\" class=\"storylink\">Cloudflare’s Gen X: Servers for an Accelerated Future</a><span class=\"sitebit comhead\"> (<a href=\"from?site=cloudflare.com\"><span class=\"sitestr\">cloudflare.com</span></a>)</span></td></tr><tr><td colspan=\"2\"></td><td class=\"subtext\">\n",
      "        <span class=\"score\" id=\"score_22403680\">121 points</span> by <a href=\"user?id=jgrahamc\" class=\"hnuser\">jgrahamc</a> <span class=\"age\"><a href=\"item?id=22403680\">5 hours ago</a></span> <span id=\"unv_22403680\"></span> | <a href=\"hide?id=22403680&amp;goto=news\">hide</a> | <a href=\"item?id=22403680\">29&nbsp;comments</a>              </td></tr>\n",
      "      <tr class=\"spacer\" style=\"height:5px\"></tr>\n",
      "                <tr class='athing' id='22384416'>\n",
      "      <td align=\"right\" valign=\"top\" class=\"title\"><span class=\"rank\">29.</span></td>      <td valign=\"top\" class=\"votelinks\"><center><a id='up_22384416' href='vote?id=22384416&amp;how=up&amp;goto=news'><div class='votearrow' title='upvote'></div></a></center></td><td class=\"title\"><a href=\"https://korecki.me/blog/2019/10/8/overthinking-it-and-the-value-of-simple-solutions\" class=\"storylink\">Overthinking it and the value of simple solutions (2019)</a><span class=\"sitebit comhead\"> (<a href=\"from?site=korecki.me\"><span class=\"sitestr\">korecki.me</span></a>)</span></td></tr><tr><td colspan=\"2\"></td><td class=\"subtext\">\n",
      "        <span class=\"score\" id=\"score_22384416\">82 points</span> by <a href=\"user?id=UkiahSmith\" class=\"hnuser\">UkiahSmith</a> <span class=\"age\"><a href=\"item?id=22384416\">10 hours ago</a></span> <span id=\"unv_22384416\"></span> | <a href=\"hide?id=22384416&amp;goto=news\">hide</a> | <a href=\"item?id=22384416\">36&nbsp;comments</a>              </td></tr>\n",
      "      <tr class=\"spacer\" style=\"height:5px\"></tr>\n",
      "                <tr class='athing' id='22399713'>\n",
      "      <td align=\"right\" valign=\"top\" class=\"title\"><span class=\"rank\">30.</span></td>      <td valign=\"top\" class=\"votelinks\"><center><a id='up_22399713' href='vote?id=22399713&amp;how=up&amp;goto=news'><div class='votearrow' title='upvote'></div></a></center></td><td class=\"title\"><a href=\"https://medium.com/wasm/strings-in-webassembly-wasm-57a05c1ea333\" class=\"storylink\">Strings in WebAssembly</a><span class=\"sitebit comhead\"> (<a href=\"from?site=medium.com\"><span class=\"sitestr\">medium.com</span></a>)</span></td></tr><tr><td colspan=\"2\"></td><td class=\"subtext\">\n",
      "        <span class=\"score\" id=\"score_22399713\">61 points</span> by <a href=\"user?id=dmit\" class=\"hnuser\">dmit</a> <span class=\"age\"><a href=\"item?id=22399713\">12 hours ago</a></span> <span id=\"unv_22399713\"></span> | <a href=\"hide?id=22399713&amp;goto=news\">hide</a> | <a href=\"item?id=22399713\">30&nbsp;comments</a>              </td></tr>\n",
      "      <tr class=\"spacer\" style=\"height:5px\"></tr>\n",
      "            <tr class=\"morespace\" style=\"height:10px\"></tr><tr><td colspan=\"2\"></td><td class=\"title\"><a href=\"news?p=2\" class=\"morelink\" rel=\"next\">More</a></td></tr>\n",
      "  </table>\n",
      "</td></tr>\n",
      "<tr><td><img src=\"s.gif\" height=\"10\" width=\"0\"><table width=\"100%\" cellspacing=\"0\" cellpadding=\"1\"><tr><td bgcolor=\"#ff6600\"></td></tr></table><br><center><a href=\"https://www.ycombinator.com/apply/\">\n",
      "        Applications are open for YC Summer 2020\n",
      "      </a></center><br><center><span class=\"yclinks\"><a href=\"newsguidelines.html\">Guidelines</a>\n",
      "        | <a href=\"newsfaq.html\">FAQ</a>\n",
      "        | <a href=\"mailto:hn@ycombinator.com\">Support</a>\n",
      "        | <a href=\"https://github.com/HackerNews/API\">API</a>\n",
      "        | <a href=\"security.html\">Security</a>\n",
      "        | <a href=\"lists\">Lists</a>\n",
      "        | <a href=\"bookmarklet.html\" rel=\"nofollow\">Bookmarklet</a>\n",
      "        | <a href=\"http://www.ycombinator.com/legal/\">Legal</a>\n",
      "        | <a href=\"http://www.ycombinator.com/apply/\">Apply to YC</a>\n",
      "        | <a href=\"mailto:hn@ycombinator.com\">Contact</a></span><br><br><form method=\"get\" action=\"//hn.algolia.com/\">Search:\n",
      "          <input type=\"text\" name=\"q\" value=\"\" size=\"17\" autocorrect=\"off\" spellcheck=\"false\" autocapitalize=\"off\" autocomplete=\"false\"></form>\n",
      "            </center></td></tr>\n",
      "      </table></center></body><script type='text/javascript' src='hn.js?uSuYgocPI4FsVd9L4XbA'></script></html>\n",
      "\n"
     ]
    }
   ],
   "source": [
    "import requests\n",
    "\n",
    "# Fetch a web page\n",
    "r = requests.get(\"https://news.ycombinator.com\")\n",
    "print(r.text)"
   ]
  },
  {
   "cell_type": "code",
   "execution_count": 27,
   "metadata": {},
   "outputs": [
    {
     "name": "stdout",
     "output_type": "stream",
     "text": [
      "\n",
      "        \n",
      "          \n",
      "        Hacker News\n",
      "        \n",
      "                  Hacker News\n",
      "              new | past | comments | ask | show | jobs | submit            \n",
      "                              login\n",
      "                          \n",
      "              \n",
      "\n",
      "              \n",
      "      1.      Cloudflare silently deleted my DNS records (txti.es)\n",
      "        53 points by iudqnolq 29 minutes ago  | hide | 4&nbsp;comments              \n",
      "      \n",
      "                \n",
      "      2.      On Voice Coding (phillips.codes)\n",
      "        161 points by buchuki 3 hours ago  | hide | 88&nbsp;comments              \n",
      "      \n",
      "                \n",
      "      3.      WHO says it no longer uses 'pandemic' category, but virus still emergency (reuters.com)\n",
      "        26 points by jacquesm 59 minutes ago  | hide | 3&nbsp;comments              \n",
      "      \n",
      "                \n",
      "      4.      Legible Mathematics – Sketches of an interactive arithmetic for programming (glench.com)\n",
      "        56 points by throwaway3157 2 hours ago  | hide | 23&nbsp;comments              \n",
      "      \n",
      "                \n",
      "      5.      Bastion – Highly-available Distributed Fault-tolerant Runtime (github.com)\n",
      "        129 points by windor 4 hours ago  | hide | 25&nbsp;comments              \n",
      "      \n",
      "                \n",
      "      6.      Snel: SQL Native Execution for LLVM (arxiv.org)\n",
      "        78 points by wslh 4 hours ago  | hide | 18&nbsp;comments              \n",
      "      \n",
      "                \n",
      "      7.      Haiku Alpha 1: Rebirth of legend (isometricleaves.wordpress.com)\n",
      "        39 points by cosmojg 2 hours ago  | hide | 4&nbsp;comments              \n",
      "      \n",
      "                \n",
      "      8.      Troy Hunt: Offshoring roulette: lessons from outsourcing (2016) (troyhunt.com)\n",
      "        6 points by throwaway3157 23 minutes ago  | hide | discuss              \n",
      "      \n",
      "                \n",
      "      9.      Launch HN: Syndetic (YC W20) – Software for explaining datasets\n",
      "        3 points by stevepike 4 minutes ago  | hide | discuss              \n",
      "      \n",
      "                \n",
      "      10.      The general value of typed functional programming lies in leaving no edge cases (reddit.com)\n",
      "        103 points by jxub 5 hours ago  | hide | 72&nbsp;comments              \n",
      "      \n",
      "                \n",
      "      11.      We found six critical PayPal vulnerabilities, and PayPal punished us for it (cybernews.com)\n",
      "        730 points by teslademigod1 5 hours ago  | hide | 228&nbsp;comments              \n",
      "      \n",
      "                \n",
      "      12.      Donald Knuth Was Framed (buttondown.email)\n",
      "        32 points by akalin 48 minutes ago  | hide | 16&nbsp;comments              \n",
      "      \n",
      "                \n",
      "      13.      Lightbeam: A Highly-Optimising Streaming WebAssembly Compiler (2019) [video] (youtube.com)\n",
      "        75 points by nonsince 6 hours ago  | hide | 9&nbsp;comments              \n",
      "      \n",
      "                \n",
      "      14.      Trunk Road Gritter Tracker (arcgis.com)\n",
      "        75 points by hjkm 4 hours ago  | hide | 56&nbsp;comments              \n",
      "      \n",
      "                \n",
      "      15.      Reflections on Software Performance (nelhage.com)\n",
      "        106 points by cespare 7 hours ago  | hide | 27&nbsp;comments              \n",
      "      \n",
      "                \n",
      "      16.      An Engineering Team Where Everyone Is a Leader (pragmaticengineer.com)\n",
      "        96 points by fagnerbrack 6 hours ago  | hide | 35&nbsp;comments              \n",
      "      \n",
      "                \n",
      "      17.      A Visual Overview of Typography (thinkingwithtype.com)\n",
      "        13 points by scghost 2 hours ago  | hide | discuss              \n",
      "      \n",
      "                \n",
      "      18.      European Commission has told its staff to start using Signal (politico.eu)\n",
      "        418 points by maxbaines 8 hours ago  | hide | 236&nbsp;comments              \n",
      "      \n",
      "                \n",
      "      19.      Covid19 Revealed Authoritarianism’s Fatal Flaw (theatlantic.com)\n",
      "        26 points by black6 49 minutes ago  | hide | 6&nbsp;comments              \n",
      "      \n",
      "                \n",
      "      20.      Katherine Johnson Dies at 101; Mathematician Broke Barriers at NASA (nytimes.com)\n",
      "        254 points by uptown 2 hours ago  | hide | 27&nbsp;comments              \n",
      "      \n",
      "                \n",
      "      21.      Smartphone startups take on Google, Apple and put privacy first (dw.com)\n",
      "        90 points by indidea 9 hours ago  | hide | 55&nbsp;comments              \n",
      "      \n",
      "                \n",
      "      22.      Mathematics for the Adventurous Self-Learner (neilwithdata.com)\n",
      "        1013 points by nsainsbury 17 hours ago  | hide | 177&nbsp;comments              \n",
      "      \n",
      "                \n",
      "      23.      Capturing ARKit scene into WebRTC video stream for React Native (github.com)\n",
      "        70 points by jhen0409 10 hours ago  | hide | 8&nbsp;comments              \n",
      "      \n",
      "                \n",
      "      24.      Warming Up to Unit Testing (junglecoder.com)\n",
      "        22 points by yumaikas 5 hours ago  | hide | 31&nbsp;comments              \n",
      "      \n",
      "                \n",
      "      25.      Ask HN: What are good distance learning Bachelor's/Master's degrees one can do?\n",
      "        68 points by polyphonicist 2 hours ago  | hide | 31&nbsp;comments              \n",
      "      \n",
      "                \n",
      "      26.      Show HN: Search code in GitHub repos using regular expressions (grep.app)\n",
      "        514 points by danfox 1 day ago  | hide | 141&nbsp;comments              \n",
      "      \n",
      "                \n",
      "      27.      Serfs of Academe (nybooks.com)\n",
      "        22 points by badcede 4 hours ago  | hide | 14&nbsp;comments              \n",
      "      \n",
      "                \n",
      "      28.      Cloudflare’s Gen X: Servers for an Accelerated Future (cloudflare.com)\n",
      "        121 points by jgrahamc 5 hours ago  | hide | 29&nbsp;comments              \n",
      "      \n",
      "                \n",
      "      29.      Overthinking it and the value of simple solutions (2019) (korecki.me)\n",
      "        82 points by UkiahSmith 10 hours ago  | hide | 36&nbsp;comments              \n",
      "      \n",
      "                \n",
      "      30.      Strings in WebAssembly (medium.com)\n",
      "        61 points by dmit 12 hours ago  | hide | 30&nbsp;comments              \n",
      "      \n",
      "            More\n",
      "  \n",
      "\n",
      "\n",
      "        Applications are open for YC Summer 2020\n",
      "      Guidelines\n",
      "        | FAQ\n",
      "        | Support\n",
      "        | API\n",
      "        | Security\n",
      "        | Lists\n",
      "        | Bookmarklet\n",
      "        | Legal\n",
      "        | Apply to YC\n",
      "        | ContactSearch:\n",
      "          \n",
      "            \n",
      "      \n",
      "\n"
     ]
    }
   ],
   "source": [
    "import re\n",
    "\n",
    "# Remove HTML tags using RegEx\n",
    "pattern = re.compile(r'<.*?>')  # tags look like <...>\n",
    "print(pattern.sub('', r.text))  # replace them with blank"
   ]
  },
  {
   "cell_type": "code",
   "execution_count": 23,
   "metadata": {
    "scrolled": true
   },
   "outputs": [
    {
     "name": "stdout",
     "output_type": "stream",
     "text": [
      "\n",
      "\n",
      "\n",
      "Hacker News\n",
      "\n",
      "Hacker News\n",
      "new | past | comments | ask | show | jobs | submit \n",
      "login\n",
      "\n",
      "\n",
      "\n",
      "\n",
      "1. Cloudflare silently deleted my DNS records (txti.es)\n",
      "79 points by iudqnolq 35 minutes ago  | hide | 10 comments \n",
      "\n",
      "\n",
      "2. WHO says it no longer uses 'pandemic' category, but virus still emergency (reuters.com)\n",
      "35 points by jacquesm 1 hour ago  | hide | 8 comments \n",
      "\n",
      "\n",
      "3. On Voice Coding (phillips.codes)\n",
      "163 points by buchuki 3 hours ago  | hide | 90 comments \n",
      "\n",
      "\n",
      "4. Legible Mathematics – Sketches of an interactive arithmetic for programming (glench.com)\n",
      "58 points by throwaway3157 2 hours ago  | hide | 24 comments \n",
      "\n",
      "\n",
      "5. Bastion – Highly-available Distributed Fault-tolerant Runtime (github.com)\n",
      "132 points by windor 5 hours ago  | hide | 25 comments \n",
      "\n",
      "\n",
      "6. Launch HN: Syndetic (YC W20) – Software for explaining datasets\n",
      "6 points by stevepike 10 minutes ago  | hide | discuss \n",
      "\n",
      "\n",
      "7. Snel: SQL Native Execution for LLVM (arxiv.org)\n",
      "80 points by wslh 4 hours ago  | hide | 18 comments \n",
      "\n",
      "\n",
      "8. Haiku Alpha 1: Rebirth of legend (isometricleaves.wordpress.com)\n",
      "39 points by cosmojg 2 hours ago  | hide | 4 comments \n",
      "\n",
      "\n",
      "9. Troy Hunt: Offshoring roulette: lessons from outsourcing (2016) (troyhunt.com)\n",
      "8 points by throwaway3157 29 minutes ago  | hide | discuss \n",
      "\n",
      "\n",
      "10. We found six critical PayPal vulnerabilities, and PayPal punished us for it (cybernews.com)\n",
      "736 points by teslademigod1 5 hours ago  | hide | 228 comments \n",
      "\n",
      "\n",
      "11. The general value of typed functional programming lies in leaving no edge cases (reddit.com)\n",
      "105 points by jxub 5 hours ago  | hide | 75 comments \n",
      "\n",
      "\n",
      "12. Lightbeam: A Highly-Optimising Streaming WebAssembly Compiler (2019) [video] (youtube.com)\n",
      "75 points by nonsince 6 hours ago  | hide | 9 comments \n",
      "\n",
      "\n",
      "13. Trunk Road Gritter Tracker (arcgis.com)\n",
      "75 points by hjkm 4 hours ago  | hide | 56 comments \n",
      "\n",
      "\n",
      "14. A Visual Overview of Typography (thinkingwithtype.com)\n",
      "16 points by scghost 2 hours ago  | hide | discuss \n",
      "\n",
      "\n",
      "15. Reflections on Software Performance (nelhage.com)\n",
      "107 points by cespare 7 hours ago  | hide | 27 comments \n",
      "\n",
      "\n",
      "16. An Engineering Team Where Everyone Is a Leader (pragmaticengineer.com)\n",
      "98 points by fagnerbrack 6 hours ago  | hide | 36 comments \n",
      "\n",
      "\n",
      "17. Covid19 Revealed Authoritarianism’s Fatal Flaw (theatlantic.com)\n",
      "31 points by black6 55 minutes ago  | hide | 6 comments \n",
      "\n",
      "\n",
      "18. European Commission has told its staff to start using Signal (politico.eu)\n",
      "419 points by maxbaines 8 hours ago  | hide | 237 comments \n",
      "\n",
      "\n",
      "19. Katherine Johnson Dies at 101; Mathematician Broke Barriers at NASA (nytimes.com)\n",
      "262 points by uptown 2 hours ago  | hide | 27 comments \n",
      "\n",
      "\n",
      "20. Smartphone startups take on Google, Apple and put privacy first (dw.com)\n",
      "92 points by indidea 9 hours ago  | hide | 56 comments \n",
      "\n",
      "\n",
      "21. Mathematics for the Adventurous Self-Learner (neilwithdata.com)\n",
      "1018 points by nsainsbury 17 hours ago  | hide | 178 comments \n",
      "\n",
      "\n",
      "22. Warming Up to Unit Testing (junglecoder.com)\n",
      "23 points by yumaikas 5 hours ago  | hide | 31 comments \n",
      "\n",
      "\n",
      "23. Capturing ARKit scene into WebRTC video stream for React Native (github.com)\n",
      "70 points by jhen0409 10 hours ago  | hide | 8 comments \n",
      "\n",
      "\n",
      "24. Ask HN: What are good distance learning Bachelor's/Master's degrees one can do?\n",
      "70 points by polyphonicist 2 hours ago  | hide | 31 comments \n",
      "\n",
      "\n",
      "25. Show HN: Search code in GitHub repos using regular expressions (grep.app)\n",
      "516 points by danfox 1 day ago  | hide | 141 comments \n",
      "\n",
      "\n",
      "26. Serfs of Academe (nybooks.com)\n",
      "22 points by badcede 4 hours ago  | hide | 15 comments \n",
      "\n",
      "\n",
      "27. Cloudflare’s Gen X: Servers for an Accelerated Future (cloudflare.com)\n",
      "121 points by jgrahamc 5 hours ago  | hide | 29 comments \n",
      "\n",
      "\n",
      "28. Overthinking it and the value of simple solutions (2019) (korecki.me)\n",
      "83 points by UkiahSmith 10 hours ago  | hide | 36 comments \n",
      "\n",
      "\n",
      "29. Fing Desktop 1.0.0 launched (network monitor and device scanner) (fing.com)\n",
      "6 points by tosh 3 hours ago  | hide | 3 comments \n",
      "\n",
      "\n",
      "30. Strings in WebAssembly (medium.com)\n",
      "61 points by dmit 12 hours ago  | hide | 30 comments \n",
      "\n",
      "More\n",
      "\n",
      "\n",
      "\n",
      "        Applications are open for YC Summer 2020\n",
      "      Guidelines\n",
      "        | FAQ\n",
      "        | Support\n",
      "        | API\n",
      "        | Security\n",
      "        | Lists\n",
      "        | Bookmarklet\n",
      "        | Legal\n",
      "        | Apply to YC\n",
      "        | ContactSearch:\n",
      "          \n",
      "\n",
      "\n",
      "\n"
     ]
    }
   ],
   "source": [
    "from bs4 import BeautifulSoup\n",
    "\n",
    "# Remove HTML tags using Beautiful Soup library\n",
    "soup = BeautifulSoup(r.text, \"html.parser\")\n",
    "print(soup.get_text())"
   ]
  },
  {
   "cell_type": "code",
   "execution_count": 24,
   "metadata": {},
   "outputs": [
    {
     "data": {
      "text/plain": [
       "<tr class=\"athing\" id=\"22406277\">\n",
       "<td align=\"right\" class=\"title\" valign=\"top\"><span class=\"rank\">1.</span></td> <td class=\"votelinks\" valign=\"top\"><center><a href=\"vote?id=22406277&amp;how=up&amp;goto=news\" id=\"up_22406277\"><div class=\"votearrow\" title=\"upvote\"></div></a></center></td><td class=\"title\"><a class=\"storylink\" href=\"https://txti.es/cloudflare-deleted-my-dns\">Cloudflare silently deleted my DNS records</a><span class=\"sitebit comhead\"> (<a href=\"from?site=txti.es\"><span class=\"sitestr\">txti.es</span></a>)</span></td></tr>"
      ]
     },
     "execution_count": 24,
     "metadata": {},
     "output_type": "execute_result"
    }
   ],
   "source": [
    "# Find all articles\n",
    "summaries = soup.find_all(\"tr\", class_=\"athing\")\n",
    "summaries[0]"
   ]
  },
  {
   "cell_type": "code",
   "execution_count": 25,
   "metadata": {},
   "outputs": [
    {
     "data": {
      "text/plain": [
       "'Cloudflare silently deleted my DNS records'"
      ]
     },
     "execution_count": 25,
     "metadata": {},
     "output_type": "execute_result"
    }
   ],
   "source": [
    "# Extract title\n",
    "summaries[0].find(\"a\", class_=\"storylink\").get_text().strip()"
   ]
  },
  {
   "cell_type": "code",
   "execution_count": 26,
   "metadata": {},
   "outputs": [
    {
     "name": "stdout",
     "output_type": "stream",
     "text": [
      "30 Article summaries found. Sample:\n",
      "Cloudflare silently deleted my DNS records\n"
     ]
    }
   ],
   "source": [
    "# Find all articles, extract titles\n",
    "articles = []\n",
    "summaries = soup.find_all(\"tr\", class_=\"athing\")\n",
    "for summary in summaries:\n",
    "    title = summary.find(\"a\", class_=\"storylink\").get_text().strip()\n",
    "    articles.append((title))\n",
    "\n",
    "print(len(articles), \"Article summaries found. Sample:\")\n",
    "print(articles[0])"
   ]
  },
  {
   "cell_type": "markdown",
   "metadata": {},
   "source": [
    "## Links\n",
    "\n",
    "Sources :\n",
    "* `hieroglyph.txt` [Wikipedia](https://en.wikipedia.org/wiki/Ancient_Egypt#Writing)\n",
    "* `news.csv` [UCI Machine Learning Repository](https://archive.ics.uci.edu/ml/datasets/News+Aggregator)\n",
    "\n",
    "References :\n",
    "* [Pandas: Working with Text data](https://pandas.pydata.org/pandas-docs/stable/text.html)\n",
    "* [Quote of the Day API](http://quotes.rest/)\n",
    "* [`nltk.tokenize`](http://www.nltk.org/api/nltk.tokenize.html)\n",
    "* [Regular Expressions in Python](https://docs.python.org/3/library/re.html)\n",
    "* [Beautiful Soup](https://www.crummy.com/software/BeautifulSoup/bs4/doc/)\n",
    "\n",
    "Notebook :\n",
    "* [Text Processing](https://github.com/udacity/AIND-NLP/blob/master/text_processing.ipynb)"
   ]
  }
 ],
 "metadata": {
  "kernelspec": {
   "display_name": "Python 3",
   "language": "python",
   "name": "python3"
  },
  "language_info": {
   "codemirror_mode": {
    "name": "ipython",
    "version": 3
   },
   "file_extension": ".py",
   "mimetype": "text/x-python",
   "name": "python",
   "nbconvert_exporter": "python",
   "pygments_lexer": "ipython3",
   "version": "3.7.6"
  }
 },
 "nbformat": 4,
 "nbformat_minor": 4
}
