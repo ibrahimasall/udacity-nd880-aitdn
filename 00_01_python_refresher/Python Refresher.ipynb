{
 "cells": [
  {
   "cell_type": "markdown",
   "metadata": {},
   "source": [
    "# Python Refresher"
   ]
  },
  {
   "cell_type": "markdown",
   "metadata": {},
   "source": [
    "This document is a personal go-to cheatsheet for some concepts of Python that came to be usueful for me at some points. Most or even all of them can be easily found on common reference guides on the internet."
   ]
  },
  {
   "cell_type": "markdown",
   "metadata": {},
   "source": [
    "[Jupyter Notebook Shortcuts](https://towardsdatascience.com/jypyter-notebook-shortcuts-bf0101a98330)  \n",
    "\n",
    "[Markdown Guide](https://www.markdownguide.org/)  \n",
    "[How to add new line in a Markdown](https://stackoverflow.com/questions/33191744/how-to-add-new-line-in-markdown-presentation/33191810)  \n",
    "\n",
    "[The Python Tutorial](https://docs.python.org/3/tutorial/index.html)  \n",
    "[Python Tips](https://book.pythontips.com/en/latest/index.html)  \n",
    "[Python 3 Module of the Week](https://book.pythontips.com/en/latest/generators.html)  \n",
    "[PEP 8 -- Style Guide for Python Code](https://www.python.org/dev/peps/pep-0008/)  \n",
    "[PEP 257 -- Docstring Conventions](https://www.python.org/dev/peps/pep-0257/)  \n",
    "\n",
    "[Managing Environments in Conda](https://docs.conda.io/projects/conda/en/latest/user-guide/tasks/manage-environments.html)  \n",
    "[Conda Cheatsheet](https://docs.conda.io/projects/conda/en/latest/user-guide/cheatsheet.html)"
   ]
  },
  {
   "cell_type": "markdown",
   "metadata": {},
   "source": [
    "## Virtual Environments and `Pip` command\n",
    "\n",
    "Virtual environents helps isolating packages imports from one project to another. You can read more about it [here](https://docs.python.org/3/tutorial/venv.html).\n",
    "\n",
    "I find the following most useful to me :\n",
    "- `pip freeze > requirements.txt`\n",
    "- `pip install -r requirements.txt`\n",
    "\n",
    "Also you can use [`conda`](https://docs.conda.io/projects/conda/en/latest/user-guide/tasks/manage-environments.html#) which I want more complete.  \n",
    "\n",
    "```\n",
    "conda create -n myenv python=3.7.6\n",
    "conda activate myenv\n",
    "conda env list\n",
    "pip freeze\n",
    "\n",
    "pip install --upgrade jupyter\n",
    "jupyter notebook\n",
    "\n",
    "conda deactivate\n",
    "conda remove -n myenv --all\n",
    "conda env list\n",
    "```\n",
    "\n",
    "Update all packages `pip freeze --local | grep -v '^\\-e' | cut -d = -f 1 | xargs -n1 pip install -U`"
   ]
  },
  {
   "cell_type": "markdown",
   "metadata": {},
   "source": [
    "## Data Types and Operators"
   ]
  },
  {
   "cell_type": "code",
   "execution_count": 14,
   "metadata": {},
   "outputs": [
    {
     "name": "stdout",
     "output_type": "stream",
     "text": [
      "7 modulo 2 is 1\n",
      "7 floordiv by 2 is 3\n",
      "-7 floordiv by 2 is -4\n"
     ]
    }
   ],
   "source": [
    "# the modulo operator % returns the remainder of the division\n",
    "print('{} modulo {} is {}'.format(7, 2, 7 % 2))\n",
    "\n",
    "# the floordiv operator // returns the rounding down of the division\n",
    "print('{} floordiv by {} is {}'.format(7, 2, 7 // 2))\n",
    "print('{} floordiv by {} is {}'.format(-7, 2, -7 // 2))"
   ]
  },
  {
   "cell_type": "markdown",
   "metadata": {},
   "source": [
    "## Lambda, Map, Filter, Reduce"
   ]
  },
  {
   "cell_type": "markdown",
   "metadata": {},
   "source": [
    "`lambda` helps writing small on-the-go functions. It can be seen as the mathematical equvalent of `f(x) = x + 2` for example. "
   ]
  },
  {
   "cell_type": "code",
   "execution_count": 19,
   "metadata": {},
   "outputs": [
    {
     "data": {
      "text/plain": [
       "12"
      ]
     },
     "execution_count": 19,
     "metadata": {},
     "output_type": "execute_result"
    }
   ],
   "source": [
    "x_plus_two = lambda x: x + 2\n",
    "x_plus_two(10)"
   ]
  },
  {
   "cell_type": "markdown",
   "metadata": {},
   "source": [
    "We can apply a function to a list by using `map`. The function returns a `map` object, so we will use `list`to convert into a list."
   ]
  },
  {
   "cell_type": "code",
   "execution_count": 27,
   "metadata": {},
   "outputs": [
    {
     "data": {
      "text/plain": [
       "[0, 1, 4, 9, 16, 25, 36, 49, 64, 81]"
      ]
     },
     "execution_count": 27,
     "metadata": {},
     "output_type": "execute_result"
    }
   ],
   "source": [
    "list(map(lambda x: x ** 2, range(10)))"
   ]
  },
  {
   "cell_type": "markdown",
   "metadata": {},
   "source": [
    "You can apply a function to only a subset of a list using `filter`"
   ]
  },
  {
   "cell_type": "code",
   "execution_count": 28,
   "metadata": {},
   "outputs": [
    {
     "data": {
      "text/plain": [
       "[-5, -4, -3, -2, -1]"
      ]
     },
     "execution_count": 28,
     "metadata": {},
     "output_type": "execute_result"
    }
   ],
   "source": [
    "list(filter(lambda x: x < 0, range(-5,5)))"
   ]
  },
  {
   "cell_type": "markdown",
   "metadata": {},
   "source": [
    "You can apply a rolling computation to a list using `reduce`"
   ]
  },
  {
   "cell_type": "code",
   "execution_count": 33,
   "metadata": {},
   "outputs": [
    {
     "data": {
      "text/plain": [
       "24"
      ]
     },
     "execution_count": 33,
     "metadata": {},
     "output_type": "execute_result"
    }
   ],
   "source": [
    "from functools import reduce\n",
    "reduce((lambda x, y: x * y), range(1,5)) # returns factorial of 4"
   ]
  },
  {
   "cell_type": "markdown",
   "metadata": {},
   "source": [
    "## Numpy\n",
    "\n",
    "If the package is not present in `!conda list numpy` let's start by installing it `conda install numpy=1.18.1`."
   ]
  },
  {
   "cell_type": "code",
   "execution_count": 24,
   "metadata": {},
   "outputs": [
    {
     "name": "stdout",
     "output_type": "stream",
     "text": [
      "It took 19.93s to run\n",
      "While numpy on takes 0.07s to run\n"
     ]
    }
   ],
   "source": [
    "import numpy as np\n",
    "from time import time\n",
    "\n",
    "x = np.random.random(10**8) # returns a list of 10**8 random values between 0 and 1\n",
    "\n",
    "start = time()\n",
    "sum(x) / len(x)\n",
    "print('It took {:.2f}s to run'.format(time() - start))\n",
    "\n",
    "start = time()\n",
    "np.mean(x)\n",
    "print('While numpy on takes {:.2f}s to run'.format(time() - start))"
   ]
  },
  {
   "cell_type": "code",
   "execution_count": 39,
   "metadata": {},
   "outputs": [
    {
     "name": "stdout",
     "output_type": "stream",
     "text": [
      "x =  [1.  2.  3.  4.5 5. ]\n",
      "x =  [1 2 3 4 5]\n",
      "x has dimensions: (5,)\n",
      "x is an object of type: <class 'numpy.ndarray'>\n",
      "x has a total of 5 elements\n",
      "The elements in x are of type: int64\n",
      "y =  [ 2  4  6  8 10]\n"
     ]
    }
   ],
   "source": [
    "x = np.array([1, 2, 3, 4.5, 5])\n",
    "print('x = ', x) # Numpy uses upcasting since all elements must be of the same type\n",
    "\n",
    "x = np.array([1, 2, 3, 4.5, 5], dtype=np.int64)\n",
    "print('x = ', x) # We can for the type of the elements\n",
    "\n",
    "print('x has dimensions:', x.shape)\n",
    "print('x is an object of type:', type(x))\n",
    "print('x has a total of', x.size, 'elements')\n",
    "print('The elements in x are of type:', x.dtype)\n",
    "\n",
    "np.save('my_array', x * 2) # it is possible to save the file into my_array.npy\n",
    "y = np.load('my_array.npy') # and load it \n",
    "print('y = ', y)"
   ]
  },
  {
   "cell_type": "code",
   "execution_count": 40,
   "metadata": {},
   "outputs": [
    {
     "name": "stdout",
     "output_type": "stream",
     "text": [
      "X = \n",
      " [[0. 0. 0. 0.]\n",
      " [0. 0. 0. 0.]\n",
      " [0. 0. 0. 0.]]\n"
     ]
    }
   ],
   "source": [
    "X = np.zeros((3,4))\n",
    "print('X = \\n', X)"
   ]
  },
  {
   "cell_type": "code",
   "execution_count": 41,
   "metadata": {},
   "outputs": [
    {
     "name": "stdout",
     "output_type": "stream",
     "text": [
      "X = \n",
      " [[1. 1. 1. 1.]\n",
      " [1. 1. 1. 1.]\n",
      " [1. 1. 1. 1.]]\n"
     ]
    }
   ],
   "source": [
    "X = np.ones((3,4))\n",
    "print('X = \\n', X)"
   ]
  },
  {
   "cell_type": "code",
   "execution_count": 42,
   "metadata": {},
   "outputs": [
    {
     "name": "stdout",
     "output_type": "stream",
     "text": [
      "X = \n",
      " [[5 5 5 5]\n",
      " [5 5 5 5]\n",
      " [5 5 5 5]]\n"
     ]
    }
   ],
   "source": [
    "X = np.full((3,4), 5)\n",
    "print('X = \\n', X)"
   ]
  },
  {
   "cell_type": "code",
   "execution_count": 46,
   "metadata": {},
   "outputs": [
    {
     "name": "stdout",
     "output_type": "stream",
     "text": [
      "X = \n",
      " [[1. 0. 0.]\n",
      " [0. 1. 0.]\n",
      " [0. 0. 1.]]\n"
     ]
    }
   ],
   "source": [
    "X = np.eye(3)\n",
    "print('X = \\n', X)"
   ]
  },
  {
   "cell_type": "code",
   "execution_count": 47,
   "metadata": {},
   "outputs": [
    {
     "name": "stdout",
     "output_type": "stream",
     "text": [
      "X = \n",
      " [[1 0 0]\n",
      " [0 2 0]\n",
      " [0 0 3]]\n"
     ]
    }
   ],
   "source": [
    "X = np.diag([1, 2, 3])\n",
    "print('X = \\n', X)"
   ]
  },
  {
   "cell_type": "code",
   "execution_count": 53,
   "metadata": {},
   "outputs": [
    {
     "name": "stdout",
     "output_type": "stream",
     "text": [
      "X = \n",
      " [0 1 2 3 4 5 6 7 8 9]\n"
     ]
    }
   ],
   "source": [
    "X = np.arange(10)\n",
    "print('X = \\n', X)"
   ]
  },
  {
   "cell_type": "code",
   "execution_count": 61,
   "metadata": {},
   "outputs": [
    {
     "name": "stdout",
     "output_type": "stream",
     "text": [
      "X = \n",
      " [0.  0.5 1.  1.5 2.  2.5 3. ]\n"
     ]
    }
   ],
   "source": [
    "X = np.linspace(0, 3, 7)\n",
    "print('X = \\n', X)"
   ]
  },
  {
   "cell_type": "code",
   "execution_count": 70,
   "metadata": {},
   "outputs": [
    {
     "name": "stdout",
     "output_type": "stream",
     "text": [
      "X = \n",
      " [[ 0  1  2  3  4  5  6  7  8  9]\n",
      " [10 11 12 13 14 15 16 17 18 19]]\n"
     ]
    }
   ],
   "source": [
    "X = np.arange(20).reshape(-1, 10) # we can unspecify one dimension and let Numpy guess it\n",
    "print('X = \\n', X)"
   ]
  },
  {
   "cell_type": "markdown",
   "metadata": {},
   "source": [
    "`random` is very useful when generating numbers, [more](https://docs.python.org/3/library/random.html)  \n",
    "Other functions include: `delete, insert, append, extend, vstack, hstack, copy, diag, unique, sort, ...`  \n",
    "Arithmetic oprators include: `exp, sqrt, mean, min, max, median, sum, power, std ...` "
   ]
  },
  {
   "cell_type": "markdown",
   "metadata": {},
   "source": [
    "## Pandas\n",
    "\n",
    "If the package is not present in `!conda list pandas` let's start by installing it `conda install pandas=1.0.3`."
   ]
  },
  {
   "cell_type": "markdown",
   "metadata": {},
   "source": [
    "`pd.Series(data, index), loc, iloc, drop, pd.DataFrame(dict, index), rename, set_index, isnull, count, dropna, fillna, interpolate, any, read_csv, head, tail, describe, corr, groupby, pd.date_range, join, rolling, query ...` "
   ]
  },
  {
   "cell_type": "code",
   "execution_count": null,
   "metadata": {},
   "outputs": [],
   "source": []
  }
 ],
 "metadata": {
  "kernelspec": {
   "display_name": "Python 3",
   "language": "python",
   "name": "python3"
  },
  "language_info": {
   "codemirror_mode": {
    "name": "ipython",
    "version": 3
   },
   "file_extension": ".py",
   "mimetype": "text/x-python",
   "name": "python",
   "nbconvert_exporter": "python",
   "pygments_lexer": "ipython3",
   "version": "3.7.6"
  }
 },
 "nbformat": 4,
 "nbformat_minor": 4
}
