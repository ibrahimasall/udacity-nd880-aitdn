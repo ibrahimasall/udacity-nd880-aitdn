{
 "cells": [
  {
   "cell_type": "markdown",
   "metadata": {},
   "source": [
    "# Descriptive Statistics"
   ]
  },
  {
   "cell_type": "markdown",
   "metadata": {},
   "source": [
    "## Measures of Center\n",
    "The are three measurues of center: **Mean, Median, Mode**."
   ]
  },
  {
   "cell_type": "code",
   "execution_count": 34,
   "metadata": {},
   "outputs": [
    {
     "name": "stdout",
     "output_type": "stream",
     "text": [
      "data: [ 8 12 32 10  3  4  4  4  4  5 12 20]\n",
      "mean: 9.83\n",
      "median: 6.50\n",
      "mode: ModeResult(mode=array([4]), count=array([4]))\n"
     ]
    }
   ],
   "source": [
    "import numpy as np\n",
    "from scipy import stats\n",
    "\n",
    "x = np.array([8, 12, 32, 10, 3, 4, 4, 4, 4, 5, 12, 20])\n",
    "\n",
    "print('data: {}'.format(x))\n",
    "print('mean: {:.2f}'.format(np.mean(x)))\n",
    "print('median: {:.2f}'.format(np.median(x)))\n",
    "print('mode: {}'.format(stats.mode(x)))"
   ]
  },
  {
   "cell_type": "markdown",
   "metadata": {},
   "source": [
    "# Measures of Spread\n",
    "\n",
    "Common measures of spread include : **Range, Interquartile Range (IQR), Standard Deviation, Variance.**\n",
    "\n",
    "The five number summary consist of 5 values:\n",
    "\n",
    "1. Minimum: The smallest number in the dataset.\n",
    "2. 1st quartile: The value such that 25% of the data fall below.\n",
    "3. 2nd quartile: The value such that 50% of the data fall below.\n",
    "4. 3rd quartile: The value such that 75% of the data fall below.\n",
    "5. Maximum: The largest value in the dataset."
   ]
  },
  {
   "cell_type": "code",
   "execution_count": 57,
   "metadata": {},
   "outputs": [
    {
     "name": "stdout",
     "output_type": "stream",
     "text": [
      "data: [ 1  5 10  3  8 12  4  1  2  8]\n",
      "std: 3.89\n",
      "min: 1.00\n",
      "1st quartile: 2.25\n",
      "2nd quartile (median): 4.50\n",
      "3rd quartile: 8.00\n",
      "max: 12.00\n"
     ]
    },
    {
     "data": {
      "text/plain": [
       "count    10.000000\n",
       "mean      5.400000\n",
       "std       3.893014\n",
       "min       1.000000\n",
       "25%       2.250000\n",
       "50%       4.500000\n",
       "75%       8.000000\n",
       "max      12.000000\n",
       "dtype: float64"
      ]
     },
     "execution_count": 57,
     "metadata": {},
     "output_type": "execute_result"
    }
   ],
   "source": [
    "import pandas as pd\n",
    "\n",
    "x = np.array([1, 5, 10, 3, 8, 12, 4, 1, 2, 8])\n",
    "\n",
    "# we can either do it using numpy\n",
    "print('data: {}'.format(x))\n",
    "print('std: {:.2f}'.format(np.std(x, ddof=1)))\n",
    "print('min: {:.2f}'.format(np.min(x)))\n",
    "print('1st quartile: {:.2f}'.format(np.quantile(x, 0.25)))\n",
    "print('2nd quartile (median): {:.2f}'.format(np.quantile(x, 0.5)))\n",
    "print('3rd quartile: {:.2f}'.format(np.quantile(x, 0.75)))\n",
    "print('max: {:.2f}'.format(np.max(x)))\n",
    "\n",
    "# or using pandas\n",
    "pd.Series(x).describe()"
   ]
  },
  {
   "cell_type": "markdown",
   "metadata": {},
   "source": [
    "TODO: histogram, boxplot, qqplot, skewness, kurstosis"
   ]
  },
  {
   "cell_type": "code",
   "execution_count": null,
   "metadata": {},
   "outputs": [],
   "source": []
  }
 ],
 "metadata": {
  "kernelspec": {
   "display_name": "Python 3",
   "language": "python",
   "name": "python3"
  },
  "language_info": {
   "codemirror_mode": {
    "name": "ipython",
    "version": 3
   },
   "file_extension": ".py",
   "mimetype": "text/x-python",
   "name": "python",
   "nbconvert_exporter": "python",
   "pygments_lexer": "ipython3",
   "version": "3.7.6"
  }
 },
 "nbformat": 4,
 "nbformat_minor": 4
}
